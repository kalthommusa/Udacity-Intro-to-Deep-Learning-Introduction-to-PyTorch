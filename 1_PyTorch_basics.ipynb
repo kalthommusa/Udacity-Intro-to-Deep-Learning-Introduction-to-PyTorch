{
  "nbformat": 4,
  "nbformat_minor": 0,
  "metadata": {
    "accelerator": "GPU",
    "colab": {
      "name": "1- PyTorch basics.ipynb",
      "provenance": [],
      "collapsed_sections": []
    },
    "kernelspec": {
      "display_name": "Python 3",
      "name": "python3"
    }
  },
  "cells": [
    {
      "cell_type": "markdown",
      "metadata": {
        "id": "KZmuSsvyjut-"
      },
      "source": [
        "## Single layer neural network"
      ]
    },
    {
      "cell_type": "code",
      "metadata": {
        "colab": {
          "background_save": true
        },
        "id": "pbqFwlReRiDK"
      },
      "source": [
        "#1- First, import PyTorch\r\n",
        "import torch"
      ],
      "execution_count": null,
      "outputs": []
    },
    {
      "cell_type": "code",
      "metadata": {
        "id": "JrumsCbgVJ1j"
      },
      "source": [
        "#2- create an activation function for our neuron\r\n",
        "def activation(x):\r\n",
        "    \"\"\" Sigmoid activation function \r\n",
        "    \r\n",
        "        Arguments\r\n",
        "        ---------\r\n",
        "        x: torch.Tensor\r\n",
        "    \"\"\"\r\n",
        "    return 1/(1+torch.exp(-x))"
      ],
      "execution_count": null,
      "outputs": []
    },
    {
      "cell_type": "code",
      "metadata": {
        "id": "Xf-2GcFRVRd2"
      },
      "source": [
        "###3- Generate some data\r\n",
        "torch.manual_seed(7) # Set the random seed so things are predictable\r\n",
        "\r\n",
        "# Features are 5 random normal variables\r\n",
        "features = torch.randn((1, 5))\r\n",
        "# True weights for our data, random normal variables again\r\n",
        "weights = torch.randn_like(features)\r\n",
        "# and a true bias term\r\n",
        "bias = torch.randn((1, 1))"
      ],
      "execution_count": null,
      "outputs": []
    },
    {
      "cell_type": "markdown",
      "metadata": {
        "id": "OwyWvAe9kYTf"
      },
      "source": [
        "## Networks Using Matrix Multiplication"
      ]
    },
    {
      "cell_type": "code",
      "metadata": {
        "colab": {
          "base_uri": "https://localhost:8080/"
        },
        "id": "8KWw8c5aVYzR",
        "outputId": "302f7161-6a20-4adb-92d0-f93dec7d8827"
      },
      "source": [
        "### Solution\r\n",
        "\r\n",
        "# Now, make our labels from our data and true weights\r\n",
        "\r\n",
        "y = activation(torch.sum(features * weights) + bias)\r\n",
        "print(y)\r\n",
        "\r\n",
        "y = activation((features * weights).sum() + bias)\r\n",
        "print(y)"
      ],
      "execution_count": null,
      "outputs": [
        {
          "output_type": "stream",
          "text": [
            "tensor([[0.1595]])\n",
            "tensor([[0.1595]])\n"
          ],
          "name": "stdout"
        }
      ]
    },
    {
      "cell_type": "code",
      "metadata": {
        "colab": {
          "base_uri": "https://localhost:8080/"
        },
        "id": "hr5htMEOK5mq",
        "outputId": "029849c6-ff0e-4a52-c891-d4b4e9327d5b"
      },
      "source": [
        "# to display the shape/size of any tensor\r\n",
        "features.shape"
      ],
      "execution_count": null,
      "outputs": [
        {
          "output_type": "execute_result",
          "data": {
            "text/plain": [
              "torch.Size([1, 5])"
            ]
          },
          "metadata": {
            "tags": []
          },
          "execution_count": 6
        }
      ]
    },
    {
      "cell_type": "code",
      "metadata": {
        "colab": {
          "base_uri": "https://localhost:8080/"
        },
        "id": "1a5Vusi-UShi",
        "outputId": "82338159-49f2-41fd-e133-ec03fb30b3f3"
      },
      "source": [
        "# to display the first indext in the shape array which represents the row number\r\n",
        "features.shape[0]"
      ],
      "execution_count": null,
      "outputs": [
        {
          "output_type": "execute_result",
          "data": {
            "text/plain": [
              "1"
            ]
          },
          "metadata": {
            "tags": []
          },
          "execution_count": 11
        }
      ]
    },
    {
      "cell_type": "code",
      "metadata": {
        "colab": {
          "base_uri": "https://localhost:8080/"
        },
        "id": "9-ZtP8hDUa7g",
        "outputId": "729a7317-23d7-4f51-86f4-5a4d98a4433e"
      },
      "source": [
        "# to display the second indext in the shape array which represents the culomn number\r\n",
        "features.shape[1]"
      ],
      "execution_count": null,
      "outputs": [
        {
          "output_type": "execute_result",
          "data": {
            "text/plain": [
              "5"
            ]
          },
          "metadata": {
            "tags": []
          },
          "execution_count": 14
        }
      ]
    },
    {
      "cell_type": "code",
      "metadata": {
        "colab": {
          "base_uri": "https://localhost:8080/"
        },
        "id": "RmHnZU1jL4Qf",
        "outputId": "1eba612c-c047-4f70-c8d5-d2041c20239f"
      },
      "source": [
        "weights.shape"
      ],
      "execution_count": null,
      "outputs": [
        {
          "output_type": "execute_result",
          "data": {
            "text/plain": [
              "torch.Size([1, 5])"
            ]
          },
          "metadata": {
            "tags": []
          },
          "execution_count": 7
        }
      ]
    },
    {
      "cell_type": "markdown",
      "metadata": {
        "id": "TIkC2nd5lGoA"
      },
      "source": [
        "## The most efficient way for matrix multiplication"
      ]
    },
    {
      "cell_type": "code",
      "metadata": {
        "colab": {
          "base_uri": "https://localhost:8080/"
        },
        "id": "Pk21LNvsWubO",
        "outputId": "70121514-677a-4460-fc6f-38aa38e95b2c"
      },
      "source": [
        "##4- Solution\r\n",
        "\r\n",
        "y = activation(torch.mm(features, weights.view(5,1)) + bias)\r\n",
        "print(y)"
      ],
      "execution_count": null,
      "outputs": [
        {
          "output_type": "stream",
          "text": [
            "tensor([[0.1595]])\n"
          ],
          "name": "stdout"
        }
      ]
    },
    {
      "cell_type": "code",
      "metadata": {
        "colab": {
          "base_uri": "https://localhost:8080/"
        },
        "id": "6O2P3G--MFWG",
        "outputId": "3d1cf036-fc83-4f76-9487-2b74bbb569a5"
      },
      "source": [
        "features.shape"
      ],
      "execution_count": null,
      "outputs": [
        {
          "output_type": "execute_result",
          "data": {
            "text/plain": [
              "torch.Size([1, 5])"
            ]
          },
          "metadata": {
            "tags": []
          },
          "execution_count": 9
        }
      ]
    },
    {
      "cell_type": "code",
      "metadata": {
        "colab": {
          "base_uri": "https://localhost:8080/"
        },
        "id": "KdO7R7l-MKFo",
        "outputId": "78861e58-0617-48e1-a11b-f00640aa649e"
      },
      "source": [
        "weights.shape"
      ],
      "execution_count": null,
      "outputs": [
        {
          "output_type": "execute_result",
          "data": {
            "text/plain": [
              "torch.Size([1, 5])"
            ]
          },
          "metadata": {
            "tags": []
          },
          "execution_count": 10
        }
      ]
    },
    {
      "cell_type": "markdown",
      "metadata": {
        "id": "SM6NEZlElQqG"
      },
      "source": [
        "## Multilayer Networks \r\n"
      ]
    },
    {
      "cell_type": "code",
      "metadata": {
        "id": "a_I7SGWyaCCx"
      },
      "source": [
        "###1- Generate some data\r\n",
        "torch.manual_seed(7) # Set the random seed so things are predictable\r\n",
        "\r\n",
        "# Features are 3 random normal variables\r\n",
        "features = torch.randn((1, 3))\r\n",
        "\r\n",
        "# Define the size of each layer in our network\r\n",
        "n_input = features.shape[1]     # Number of input units, must match number of input features\r\n",
        "n_hidden = 2                    # Number of hidden units \r\n",
        "n_output = 1                    # Number of output units\r\n",
        "\r\n",
        "# Weights for inputs to hidden layer\r\n",
        "W1 = torch.randn(n_input, n_hidden)\r\n",
        "# Weights for hidden layer to output layer\r\n",
        "W2 = torch.randn(n_hidden, n_output)\r\n",
        "\r\n",
        "# and bias terms for hidden and output layers\r\n",
        "B1 = torch.randn((1, n_hidden))\r\n",
        "B2 = torch.randn((1, n_output))"
      ],
      "execution_count": null,
      "outputs": []
    },
    {
      "cell_type": "code",
      "metadata": {
        "colab": {
          "base_uri": "https://localhost:8080/"
        },
        "id": "L0jbxtZYGmbK",
        "outputId": "c20f0917-ea69-4baa-f09b-3f1c5e6e7adf"
      },
      "source": [
        "features.shape"
      ],
      "execution_count": null,
      "outputs": [
        {
          "output_type": "execute_result",
          "data": {
            "text/plain": [
              "torch.Size([1, 3])"
            ]
          },
          "metadata": {
            "tags": []
          },
          "execution_count": 7
        }
      ]
    },
    {
      "cell_type": "code",
      "metadata": {
        "colab": {
          "base_uri": "https://localhost:8080/"
        },
        "id": "_Dm7jg4rGF7u",
        "outputId": "74849aa9-e0fe-4aa9-b0be-00f6a6fb8191"
      },
      "source": [
        "W1.shape"
      ],
      "execution_count": null,
      "outputs": [
        {
          "output_type": "execute_result",
          "data": {
            "text/plain": [
              "torch.Size([3, 2])"
            ]
          },
          "metadata": {
            "tags": []
          },
          "execution_count": 5
        }
      ]
    },
    {
      "cell_type": "code",
      "metadata": {
        "colab": {
          "base_uri": "https://localhost:8080/"
        },
        "id": "vdEdWHGBGdEO",
        "outputId": "7350f6b3-4d85-4ab6-f7d3-a8f8c4a85c5a"
      },
      "source": [
        "W2.shape"
      ],
      "execution_count": null,
      "outputs": [
        {
          "output_type": "execute_result",
          "data": {
            "text/plain": [
              "torch.Size([2, 1])"
            ]
          },
          "metadata": {
            "tags": []
          },
          "execution_count": 6
        }
      ]
    },
    {
      "cell_type": "code",
      "metadata": {
        "colab": {
          "base_uri": "https://localhost:8080/"
        },
        "id": "nlNpaUdzH6Iu",
        "outputId": "279c1813-46e3-4d3d-8ed0-48838bc317fa"
      },
      "source": [
        "B1.shape"
      ],
      "execution_count": null,
      "outputs": [
        {
          "output_type": "execute_result",
          "data": {
            "text/plain": [
              "torch.Size([1, 2])"
            ]
          },
          "metadata": {
            "tags": []
          },
          "execution_count": 8
        }
      ]
    },
    {
      "cell_type": "code",
      "metadata": {
        "colab": {
          "base_uri": "https://localhost:8080/"
        },
        "id": "GFVSCmQ4H-dX",
        "outputId": "f8b1ec6e-4916-4b10-8508-0652b82458fc"
      },
      "source": [
        "B2.shape"
      ],
      "execution_count": null,
      "outputs": [
        {
          "output_type": "execute_result",
          "data": {
            "text/plain": [
              "torch.Size([1, 1])"
            ]
          },
          "metadata": {
            "tags": []
          },
          "execution_count": 9
        }
      ]
    },
    {
      "cell_type": "code",
      "metadata": {
        "colab": {
          "base_uri": "https://localhost:8080/"
        },
        "id": "dihIMYvwka0z",
        "outputId": "ea2d7613-4bce-4258-e29e-ae8694879be4"
      },
      "source": [
        "### Solution\r\n",
        "\r\n",
        "h = activation(torch.mm(features, W1) + B1)\r\n",
        "output = activation(torch.mm(h, W2) + B2)\r\n",
        "print(output)"
      ],
      "execution_count": null,
      "outputs": [
        {
          "output_type": "stream",
          "text": [
            "tensor([[0.3171]])\n"
          ],
          "name": "stdout"
        }
      ]
    },
    {
      "cell_type": "code",
      "metadata": {
        "colab": {
          "base_uri": "https://localhost:8080/"
        },
        "id": "i63CPzIeKKpY",
        "outputId": "d65ea5e3-e6d2-46f7-9672-5431ebe85639"
      },
      "source": [
        "h.shape"
      ],
      "execution_count": null,
      "outputs": [
        {
          "output_type": "execute_result",
          "data": {
            "text/plain": [
              "torch.Size([1, 2])"
            ]
          },
          "metadata": {
            "tags": []
          },
          "execution_count": 11
        }
      ]
    },
    {
      "cell_type": "code",
      "metadata": {
        "colab": {
          "base_uri": "https://localhost:8080/"
        },
        "id": "GhqQYbhqLX7y",
        "outputId": "a7686352-a277-452c-e42e-0c33e07449f7"
      },
      "source": [
        "W2.shape"
      ],
      "execution_count": null,
      "outputs": [
        {
          "output_type": "execute_result",
          "data": {
            "text/plain": [
              "torch.Size([2, 1])"
            ]
          },
          "metadata": {
            "tags": []
          },
          "execution_count": 12
        }
      ]
    },
    {
      "cell_type": "code",
      "metadata": {
        "colab": {
          "base_uri": "https://localhost:8080/"
        },
        "id": "twLkl-XSLdIH",
        "outputId": "2e5f6612-4aa6-4927-d7ad-bf3eeb6a0f91"
      },
      "source": [
        "output.shape"
      ],
      "execution_count": null,
      "outputs": [
        {
          "output_type": "execute_result",
          "data": {
            "text/plain": [
              "torch.Size([1, 1])"
            ]
          },
          "metadata": {
            "tags": []
          },
          "execution_count": 13
        }
      ]
    },
    {
      "cell_type": "markdown",
      "metadata": {
        "id": "0Ne_B_2GsJX6"
      },
      "source": [
        "## From Numpy (array) to Torch (tensor) and back"
      ]
    },
    {
      "cell_type": "code",
      "metadata": {
        "colab": {
          "base_uri": "https://localhost:8080/"
        },
        "id": "1cW1RJ80lul7",
        "outputId": "734e90b4-4f39-43dc-d355-c70af2ee9a43"
      },
      "source": [
        "import torch\r\n",
        "import numpy as np\r\n",
        "\r\n",
        "# craete a dummy numpy array\r\n",
        "a = np.random.rand(4,3)\r\n",
        "a"
      ],
      "execution_count": 6,
      "outputs": [
        {
          "output_type": "execute_result",
          "data": {
            "text/plain": [
              "array([[0.57653434, 0.24199678, 0.46791135],\n",
              "       [0.21958086, 0.9255004 , 0.78289748],\n",
              "       [0.8316196 , 0.86487606, 0.81164087],\n",
              "       [0.34479192, 0.38999766, 0.0808021 ]])"
            ]
          },
          "metadata": {
            "tags": []
          },
          "execution_count": 6
        }
      ]
    },
    {
      "cell_type": "code",
      "metadata": {
        "colab": {
          "base_uri": "https://localhost:8080/"
        },
        "id": "lgFYyL8rQ-1J",
        "outputId": "65ebce6b-011f-4272-998d-9a3fe9f4790c"
      },
      "source": [
        "# numpy array\r\n",
        "a.shape"
      ],
      "execution_count": null,
      "outputs": [
        {
          "output_type": "execute_result",
          "data": {
            "text/plain": [
              "(4, 3)"
            ]
          },
          "metadata": {
            "tags": []
          },
          "execution_count": 16
        }
      ]
    },
    {
      "cell_type": "code",
      "metadata": {
        "colab": {
          "base_uri": "https://localhost:8080/"
        },
        "id": "j7P46DN4srMa",
        "outputId": "8a02ae9d-23a1-417a-9edc-4f7cf02e7f86"
      },
      "source": [
        "# convert the numpy array 'a' into pytorch tensor 'b'\r\n",
        "b = torch.from_numpy(a)\r\n",
        "b"
      ],
      "execution_count": 7,
      "outputs": [
        {
          "output_type": "execute_result",
          "data": {
            "text/plain": [
              "tensor([[0.5765, 0.2420, 0.4679],\n",
              "        [0.2196, 0.9255, 0.7829],\n",
              "        [0.8316, 0.8649, 0.8116],\n",
              "        [0.3448, 0.3900, 0.0808]], dtype=torch.float64)"
            ]
          },
          "metadata": {
            "tags": []
          },
          "execution_count": 7
        }
      ]
    },
    {
      "cell_type": "code",
      "metadata": {
        "colab": {
          "base_uri": "https://localhost:8080/"
        },
        "id": "KQiQVVaXRgaK",
        "outputId": "12b5714d-6f4e-4234-a295-0426777ba2d1"
      },
      "source": [
        "# pytorch tensor, and has the same shape as the numpy array \r\n",
        "b.shape"
      ],
      "execution_count": null,
      "outputs": [
        {
          "output_type": "execute_result",
          "data": {
            "text/plain": [
              "torch.Size([4, 3])"
            ]
          },
          "metadata": {
            "tags": []
          },
          "execution_count": 18
        }
      ]
    },
    {
      "cell_type": "code",
      "metadata": {
        "colab": {
          "base_uri": "https://localhost:8080/"
        },
        "id": "Nc8QRqsxs8mt",
        "outputId": "fc0d885f-3de2-4f30-d9e3-4f00275251fb"
      },
      "source": [
        "# go back and convert the pytorch tensor 'b' into numpy array structure \r\n",
        "z= b.numpy()\r\n",
        "z"
      ],
      "execution_count": 9,
      "outputs": [
        {
          "output_type": "execute_result",
          "data": {
            "text/plain": [
              "array([[0.57653434, 0.24199678, 0.46791135],\n",
              "       [0.21958086, 0.9255004 , 0.78289748],\n",
              "       [0.8316196 , 0.86487606, 0.81164087],\n",
              "       [0.34479192, 0.38999766, 0.0808021 ]])"
            ]
          },
          "metadata": {
            "tags": []
          },
          "execution_count": 9
        }
      ]
    },
    {
      "cell_type": "code",
      "metadata": {
        "colab": {
          "base_uri": "https://localhost:8080/"
        },
        "id": "Ay-c0-0qCUge",
        "outputId": "767d53f0-5e69-4090-a61d-6cde5ef50855"
      },
      "source": [
        "z.shape"
      ],
      "execution_count": 10,
      "outputs": [
        {
          "output_type": "execute_result",
          "data": {
            "text/plain": [
              "(4, 3)"
            ]
          },
          "metadata": {
            "tags": []
          },
          "execution_count": 10
        }
      ]
    },
    {
      "cell_type": "code",
      "metadata": {
        "colab": {
          "base_uri": "https://localhost:8080/"
        },
        "id": "W1gv30-jS8GH",
        "outputId": "26412cb6-c977-439f-b421-9b94232184cf"
      },
      "source": [
        "b.shape"
      ],
      "execution_count": 13,
      "outputs": [
        {
          "output_type": "execute_result",
          "data": {
            "text/plain": [
              "torch.Size([4, 3])"
            ]
          },
          "metadata": {
            "tags": []
          },
          "execution_count": 13
        }
      ]
    },
    {
      "cell_type": "code",
      "metadata": {
        "colab": {
          "base_uri": "https://localhost:8080/"
        },
        "id": "1vV5MYo6Cj8z",
        "outputId": "44744058-bf3c-41c8-d06c-db87a1d1d24a"
      },
      "source": [
        "a.shape"
      ],
      "execution_count": 14,
      "outputs": [
        {
          "output_type": "execute_result",
          "data": {
            "text/plain": [
              "(4, 3)"
            ]
          },
          "metadata": {
            "tags": []
          },
          "execution_count": 14
        }
      ]
    },
    {
      "cell_type": "markdown",
      "metadata": {
        "id": "bcQNDmU_uauD"
      },
      "source": [
        "## Operations on Tensors or Array\r\n",
        "The memory is shared between the Numpy array and Torch tensor, so if you change the values in-place of one object, the other will change as well."
      ]
    },
    {
      "cell_type": "code",
      "metadata": {
        "colab": {
          "base_uri": "https://localhost:8080/"
        },
        "id": "ri28N0g_tMYU",
        "outputId": "1e2cfa19-8621-4bed-919e-bc21cf1afde1"
      },
      "source": [
        "# Multiply PyTorch Tensor by 2, in place\r\n",
        "b.mul_(2)"
      ],
      "execution_count": 11,
      "outputs": [
        {
          "output_type": "execute_result",
          "data": {
            "text/plain": [
              "tensor([[1.1531, 0.4840, 0.9358],\n",
              "        [0.4392, 1.8510, 1.5658],\n",
              "        [1.6632, 1.7298, 1.6233],\n",
              "        [0.6896, 0.7800, 0.1616]], dtype=torch.float64)"
            ]
          },
          "metadata": {
            "tags": []
          },
          "execution_count": 11
        }
      ]
    },
    {
      "cell_type": "code",
      "metadata": {
        "colab": {
          "base_uri": "https://localhost:8080/"
        },
        "id": "Q7vkTNMvu-Hb",
        "outputId": "de3f68cd-f0d1-4344-9a22-867108dd1324"
      },
      "source": [
        "# Numpy array matches new values from Tensor, Performing any operation on the Pytorch Tensor will affect and change the Numpy array values and vice versa. \r\n",
        "a"
      ],
      "execution_count": 12,
      "outputs": [
        {
          "output_type": "execute_result",
          "data": {
            "text/plain": [
              "array([[1.15306869, 0.48399357, 0.9358227 ],\n",
              "       [0.43916172, 1.85100079, 1.56579497],\n",
              "       [1.66323921, 1.72975212, 1.62328174],\n",
              "       [0.68958384, 0.77999532, 0.1616042 ]])"
            ]
          },
          "metadata": {
            "tags": []
          },
          "execution_count": 12
        }
      ]
    }
  ]
}