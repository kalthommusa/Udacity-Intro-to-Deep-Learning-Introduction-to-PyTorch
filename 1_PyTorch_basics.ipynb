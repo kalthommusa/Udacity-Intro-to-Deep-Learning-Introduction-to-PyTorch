{
  "nbformat": 4,
  "nbformat_minor": 0,
  "metadata": {
    "accelerator": "GPU",
    "colab": {
      "name": "1- PyTorch basics.ipynb",
      "provenance": []
    },
    "kernelspec": {
      "display_name": "Python 3",
      "name": "python3"
    }
  },
  "cells": [
    {
      "cell_type": "markdown",
      "metadata": {
        "id": "KZmuSsvyjut-"
      },
      "source": [
        "## Single layer neural networks"
      ]
    },
    {
      "cell_type": "code",
      "metadata": {
        "id": "pbqFwlReRiDK"
      },
      "source": [
        "# First, import PyTorch\r\n",
        "import torch"
      ],
      "execution_count": null,
      "outputs": []
    },
    {
      "cell_type": "code",
      "metadata": {
        "id": "JrumsCbgVJ1j"
      },
      "source": [
        "def activation(x):\r\n",
        "    \"\"\" Sigmoid activation function \r\n",
        "    \r\n",
        "        Arguments\r\n",
        "        ---------\r\n",
        "        x: torch.Tensor\r\n",
        "    \"\"\"\r\n",
        "    return 1/(1+torch.exp(-x))"
      ],
      "execution_count": null,
      "outputs": []
    },
    {
      "cell_type": "code",
      "metadata": {
        "id": "Xf-2GcFRVRd2"
      },
      "source": [
        "### Generate some data\r\n",
        "torch.manual_seed(7) # Set the random seed so things are predictable\r\n",
        "\r\n",
        "# Features are 5 random normal variables\r\n",
        "features = torch.randn((1, 5))\r\n",
        "# True weights for our data, random normal variables again\r\n",
        "weights = torch.randn_like(features)\r\n",
        "# and a true bias term\r\n",
        "bias = torch.randn((1, 1))"
      ],
      "execution_count": null,
      "outputs": []
    },
    {
      "cell_type": "markdown",
      "metadata": {
        "id": "OwyWvAe9kYTf"
      },
      "source": [
        "## Networks Using Matrix Multiplication"
      ]
    },
    {
      "cell_type": "code",
      "metadata": {
        "colab": {
          "base_uri": "https://localhost:8080/"
        },
        "id": "8KWw8c5aVYzR",
        "outputId": "708a208f-d4a6-439c-a5fa-5dfb84a86673"
      },
      "source": [
        "### Solution\r\n",
        "\r\n",
        "# Now, make our labels from our data and true weights\r\n",
        "\r\n",
        "y = activation(torch.sum(features * weights) + bias)\r\n",
        "print(y)\r\n",
        "\r\n",
        "y = activation((features * weights).sum() + bias)\r\n",
        "print(y)"
      ],
      "execution_count": null,
      "outputs": [
        {
          "output_type": "stream",
          "text": [
            "tensor([[0.1595]])\n",
            "tensor([[0.1595]])\n"
          ],
          "name": "stdout"
        }
      ]
    },
    {
      "cell_type": "markdown",
      "metadata": {
        "id": "TIkC2nd5lGoA"
      },
      "source": [
        "## The most efficient way for matrix multiplication"
      ]
    },
    {
      "cell_type": "code",
      "metadata": {
        "colab": {
          "base_uri": "https://localhost:8080/"
        },
        "id": "Pk21LNvsWubO",
        "outputId": "77341521-640c-4b35-b9c5-7b8d8ce6defd"
      },
      "source": [
        "## Solution\r\n",
        "\r\n",
        "y = activation(torch.mm(features, weights.view(5,1)) + bias)\r\n",
        "print(y)"
      ],
      "execution_count": null,
      "outputs": [
        {
          "output_type": "stream",
          "text": [
            "tensor([[0.1595]])\n"
          ],
          "name": "stdout"
        }
      ]
    },
    {
      "cell_type": "markdown",
      "metadata": {
        "id": "SM6NEZlElQqG"
      },
      "source": [
        "## Multilayer Networks \r\n"
      ]
    },
    {
      "cell_type": "code",
      "metadata": {
        "id": "a_I7SGWyaCCx"
      },
      "source": [
        "### Generate some data\r\n",
        "torch.manual_seed(7) # Set the random seed so things are predictable\r\n",
        "\r\n",
        "# Features are 3 random normal variables\r\n",
        "features = torch.randn((1, 3))\r\n",
        "\r\n",
        "# Define the size of each layer in our network\r\n",
        "n_input = features.shape[1]     # Number of input units, must match number of input features\r\n",
        "n_hidden = 2                    # Number of hidden units \r\n",
        "n_output = 1                    # Number of output units\r\n",
        "\r\n",
        "# Weights for inputs to hidden layer\r\n",
        "W1 = torch.randn(n_input, n_hidden)\r\n",
        "# Weights for hidden layer to output layer\r\n",
        "W2 = torch.randn(n_hidden, n_output)\r\n",
        "\r\n",
        "# and bias terms for hidden and output layers\r\n",
        "B1 = torch.randn((1, n_hidden))\r\n",
        "B2 = torch.randn((1, n_output))"
      ],
      "execution_count": null,
      "outputs": []
    },
    {
      "cell_type": "code",
      "metadata": {
        "colab": {
          "base_uri": "https://localhost:8080/"
        },
        "id": "dihIMYvwka0z",
        "outputId": "bc8708cd-c992-47ab-aa28-c82316278d5a"
      },
      "source": [
        "### Solution\r\n",
        "\r\n",
        "h = activation(torch.mm(features, W1) + B1)\r\n",
        "output = activation(torch.mm(h, W2) + B2)\r\n",
        "print(output)"
      ],
      "execution_count": null,
      "outputs": [
        {
          "output_type": "stream",
          "text": [
            "tensor([[0.3171]])\n"
          ],
          "name": "stdout"
        }
      ]
    },
    {
      "cell_type": "markdown",
      "metadata": {
        "id": "0Ne_B_2GsJX6"
      },
      "source": [
        "## From Numpy (array) to Torch (tensor) and back"
      ]
    },
    {
      "cell_type": "code",
      "metadata": {
        "colab": {
          "base_uri": "https://localhost:8080/"
        },
        "id": "1cW1RJ80lul7",
        "outputId": "6db1ba98-d449-4c8f-9300-c606f8441c2c"
      },
      "source": [
        "import numpy as np\r\n",
        "a = np.random.rand(4,3)\r\n",
        "a"
      ],
      "execution_count": null,
      "outputs": [
        {
          "output_type": "execute_result",
          "data": {
            "text/plain": [
              "array([[0.48378167, 0.50168828, 0.40439898],\n",
              "       [0.72630425, 0.10487308, 0.94518169],\n",
              "       [0.30625661, 0.67509996, 0.23630406],\n",
              "       [0.27383689, 0.40792258, 0.18536191]])"
            ]
          },
          "metadata": {
            "tags": []
          },
          "execution_count": 11
        }
      ]
    },
    {
      "cell_type": "code",
      "metadata": {
        "colab": {
          "base_uri": "https://localhost:8080/"
        },
        "id": "j7P46DN4srMa",
        "outputId": "c2231804-ccaa-4df6-be9f-4d97dfab212a"
      },
      "source": [
        "b = torch.from_numpy(a)\r\n",
        "b"
      ],
      "execution_count": null,
      "outputs": [
        {
          "output_type": "execute_result",
          "data": {
            "text/plain": [
              "tensor([[0.4838, 0.5017, 0.4044],\n",
              "        [0.7263, 0.1049, 0.9452],\n",
              "        [0.3063, 0.6751, 0.2363],\n",
              "        [0.2738, 0.4079, 0.1854]], dtype=torch.float64)"
            ]
          },
          "metadata": {
            "tags": []
          },
          "execution_count": 12
        }
      ]
    },
    {
      "cell_type": "code",
      "metadata": {
        "colab": {
          "base_uri": "https://localhost:8080/"
        },
        "id": "Nc8QRqsxs8mt",
        "outputId": "f10ef397-ac38-4655-e83f-36633078f13f"
      },
      "source": [
        "b.numpy()"
      ],
      "execution_count": null,
      "outputs": [
        {
          "output_type": "execute_result",
          "data": {
            "text/plain": [
              "array([[0.48378167, 0.50168828, 0.40439898],\n",
              "       [0.72630425, 0.10487308, 0.94518169],\n",
              "       [0.30625661, 0.67509996, 0.23630406],\n",
              "       [0.27383689, 0.40792258, 0.18536191]])"
            ]
          },
          "metadata": {
            "tags": []
          },
          "execution_count": 13
        }
      ]
    },
    {
      "cell_type": "markdown",
      "metadata": {
        "id": "bcQNDmU_uauD"
      },
      "source": [
        "## Operations on Tensors or Array\r\n",
        "The memory is shared between the Numpy array and Torch tensor, so if you change the values in-place of one object, the other will change as well."
      ]
    },
    {
      "cell_type": "code",
      "metadata": {
        "colab": {
          "base_uri": "https://localhost:8080/"
        },
        "id": "ri28N0g_tMYU",
        "outputId": "a47519d9-a33f-4f49-bf28-f3363fa94a32"
      },
      "source": [
        "# Multiply PyTorch Tensor by 2, in place\r\n",
        "b.mul_(2)"
      ],
      "execution_count": null,
      "outputs": [
        {
          "output_type": "execute_result",
          "data": {
            "text/plain": [
              "tensor([[0.9676, 1.0034, 0.8088],\n",
              "        [1.4526, 0.2097, 1.8904],\n",
              "        [0.6125, 1.3502, 0.4726],\n",
              "        [0.5477, 0.8158, 0.3707]], dtype=torch.float64)"
            ]
          },
          "metadata": {
            "tags": []
          },
          "execution_count": 14
        }
      ]
    },
    {
      "cell_type": "code",
      "metadata": {
        "colab": {
          "base_uri": "https://localhost:8080/"
        },
        "id": "Q7vkTNMvu-Hb",
        "outputId": "5b116a8b-e7d5-487f-b849-75d3241d3196"
      },
      "source": [
        "a"
      ],
      "execution_count": null,
      "outputs": [
        {
          "output_type": "execute_result",
          "data": {
            "text/plain": [
              "array([[0.96756334, 1.00337655, 0.80879795],\n",
              "       [1.4526085 , 0.20974616, 1.89036339],\n",
              "       [0.61251321, 1.35019992, 0.47260811],\n",
              "       [0.54767379, 0.81584517, 0.37072382]])"
            ]
          },
          "metadata": {
            "tags": []
          },
          "execution_count": 15
        }
      ]
    }
  ]
}