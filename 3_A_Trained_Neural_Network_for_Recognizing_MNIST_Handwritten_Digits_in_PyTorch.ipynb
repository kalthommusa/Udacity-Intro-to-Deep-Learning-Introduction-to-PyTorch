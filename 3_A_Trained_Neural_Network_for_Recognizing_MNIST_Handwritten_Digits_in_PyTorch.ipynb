{
  "nbformat": 4,
  "nbformat_minor": 0,
  "metadata": {
    "colab": {
      "name": "3- A Trained Neural Network for Recognizing MNIST Handwritten Digits in PyTorch.ipynb",
      "provenance": []
    },
    "kernelspec": {
      "display_name": "Python 3",
      "name": "python3"
    },
    "widgets": {
      "application/vnd.jupyter.widget-state+json": {
        "77c6620d44f44d90a5b102853656e1a2": {
          "model_module": "@jupyter-widgets/controls",
          "model_name": "HBoxModel",
          "state": {
            "_view_name": "HBoxView",
            "_dom_classes": [],
            "_model_name": "HBoxModel",
            "_view_module": "@jupyter-widgets/controls",
            "_model_module_version": "1.5.0",
            "_view_count": null,
            "_view_module_version": "1.5.0",
            "box_style": "",
            "layout": "IPY_MODEL_aae053deda9c4838b6a17d3912263fb4",
            "_model_module": "@jupyter-widgets/controls",
            "children": [
              "IPY_MODEL_87ddf09002c1430abec9804789c23a3e",
              "IPY_MODEL_78069b98d02f49ab8a3227c1be6703d4"
            ]
          }
        },
        "aae053deda9c4838b6a17d3912263fb4": {
          "model_module": "@jupyter-widgets/base",
          "model_name": "LayoutModel",
          "state": {
            "_view_name": "LayoutView",
            "grid_template_rows": null,
            "right": null,
            "justify_content": null,
            "_view_module": "@jupyter-widgets/base",
            "overflow": null,
            "_model_module_version": "1.2.0",
            "_view_count": null,
            "flex_flow": null,
            "width": null,
            "min_width": null,
            "border": null,
            "align_items": null,
            "bottom": null,
            "_model_module": "@jupyter-widgets/base",
            "top": null,
            "grid_column": null,
            "overflow_y": null,
            "overflow_x": null,
            "grid_auto_flow": null,
            "grid_area": null,
            "grid_template_columns": null,
            "flex": null,
            "_model_name": "LayoutModel",
            "justify_items": null,
            "grid_row": null,
            "max_height": null,
            "align_content": null,
            "visibility": null,
            "align_self": null,
            "height": null,
            "min_height": null,
            "padding": null,
            "grid_auto_rows": null,
            "grid_gap": null,
            "max_width": null,
            "order": null,
            "_view_module_version": "1.2.0",
            "grid_template_areas": null,
            "object_position": null,
            "object_fit": null,
            "grid_auto_columns": null,
            "margin": null,
            "display": null,
            "left": null
          }
        },
        "87ddf09002c1430abec9804789c23a3e": {
          "model_module": "@jupyter-widgets/controls",
          "model_name": "FloatProgressModel",
          "state": {
            "_view_name": "ProgressView",
            "style": "IPY_MODEL_de8d0474a43742f79932f3f8230949ec",
            "_dom_classes": [],
            "description": "",
            "_model_name": "FloatProgressModel",
            "bar_style": "success",
            "max": 4542,
            "_view_module": "@jupyter-widgets/controls",
            "_model_module_version": "1.5.0",
            "value": 4542,
            "_view_count": null,
            "_view_module_version": "1.5.0",
            "orientation": "horizontal",
            "min": 0,
            "description_tooltip": null,
            "_model_module": "@jupyter-widgets/controls",
            "layout": "IPY_MODEL_fa84572a241e4313a8f5f06b83c4e56e"
          }
        },
        "78069b98d02f49ab8a3227c1be6703d4": {
          "model_module": "@jupyter-widgets/controls",
          "model_name": "HTMLModel",
          "state": {
            "_view_name": "HTMLView",
            "style": "IPY_MODEL_c50c6d5c16e54485879dfc12a717d117",
            "_dom_classes": [],
            "description": "",
            "_model_name": "HTMLModel",
            "placeholder": "​",
            "_view_module": "@jupyter-widgets/controls",
            "_model_module_version": "1.5.0",
            "value": " 5120/? [00:50&lt;00:00, 100.94it/s]",
            "_view_count": null,
            "_view_module_version": "1.5.0",
            "description_tooltip": null,
            "_model_module": "@jupyter-widgets/controls",
            "layout": "IPY_MODEL_723c5a0efb904911be351e1a309cac61"
          }
        },
        "de8d0474a43742f79932f3f8230949ec": {
          "model_module": "@jupyter-widgets/controls",
          "model_name": "ProgressStyleModel",
          "state": {
            "_view_name": "StyleView",
            "_model_name": "ProgressStyleModel",
            "description_width": "initial",
            "_view_module": "@jupyter-widgets/base",
            "_model_module_version": "1.5.0",
            "_view_count": null,
            "_view_module_version": "1.2.0",
            "bar_color": null,
            "_model_module": "@jupyter-widgets/controls"
          }
        },
        "fa84572a241e4313a8f5f06b83c4e56e": {
          "model_module": "@jupyter-widgets/base",
          "model_name": "LayoutModel",
          "state": {
            "_view_name": "LayoutView",
            "grid_template_rows": null,
            "right": null,
            "justify_content": null,
            "_view_module": "@jupyter-widgets/base",
            "overflow": null,
            "_model_module_version": "1.2.0",
            "_view_count": null,
            "flex_flow": null,
            "width": null,
            "min_width": null,
            "border": null,
            "align_items": null,
            "bottom": null,
            "_model_module": "@jupyter-widgets/base",
            "top": null,
            "grid_column": null,
            "overflow_y": null,
            "overflow_x": null,
            "grid_auto_flow": null,
            "grid_area": null,
            "grid_template_columns": null,
            "flex": null,
            "_model_name": "LayoutModel",
            "justify_items": null,
            "grid_row": null,
            "max_height": null,
            "align_content": null,
            "visibility": null,
            "align_self": null,
            "height": null,
            "min_height": null,
            "padding": null,
            "grid_auto_rows": null,
            "grid_gap": null,
            "max_width": null,
            "order": null,
            "_view_module_version": "1.2.0",
            "grid_template_areas": null,
            "object_position": null,
            "object_fit": null,
            "grid_auto_columns": null,
            "margin": null,
            "display": null,
            "left": null
          }
        },
        "c50c6d5c16e54485879dfc12a717d117": {
          "model_module": "@jupyter-widgets/controls",
          "model_name": "DescriptionStyleModel",
          "state": {
            "_view_name": "StyleView",
            "_model_name": "DescriptionStyleModel",
            "description_width": "",
            "_view_module": "@jupyter-widgets/base",
            "_model_module_version": "1.5.0",
            "_view_count": null,
            "_view_module_version": "1.2.0",
            "_model_module": "@jupyter-widgets/controls"
          }
        },
        "723c5a0efb904911be351e1a309cac61": {
          "model_module": "@jupyter-widgets/base",
          "model_name": "LayoutModel",
          "state": {
            "_view_name": "LayoutView",
            "grid_template_rows": null,
            "right": null,
            "justify_content": null,
            "_view_module": "@jupyter-widgets/base",
            "overflow": null,
            "_model_module_version": "1.2.0",
            "_view_count": null,
            "flex_flow": null,
            "width": null,
            "min_width": null,
            "border": null,
            "align_items": null,
            "bottom": null,
            "_model_module": "@jupyter-widgets/base",
            "top": null,
            "grid_column": null,
            "overflow_y": null,
            "overflow_x": null,
            "grid_auto_flow": null,
            "grid_area": null,
            "grid_template_columns": null,
            "flex": null,
            "_model_name": "LayoutModel",
            "justify_items": null,
            "grid_row": null,
            "max_height": null,
            "align_content": null,
            "visibility": null,
            "align_self": null,
            "height": null,
            "min_height": null,
            "padding": null,
            "grid_auto_rows": null,
            "grid_gap": null,
            "max_width": null,
            "order": null,
            "_view_module_version": "1.2.0",
            "grid_template_areas": null,
            "object_position": null,
            "object_fit": null,
            "grid_auto_columns": null,
            "margin": null,
            "display": null,
            "left": null
          }
        }
      }
    },
    "accelerator": "GPU"
  },
  "cells": [
    {
      "cell_type": "markdown",
      "metadata": {
        "id": "xgJjmW9fCJ2Q"
      },
      "source": [
        "# Backpropagation for train a deep multilayer neural network"
      ]
    },
    {
      "cell_type": "markdown",
      "metadata": {
        "id": "OFX9blPJB4VV"
      },
      "source": [
        "# Losses in PyTorch"
      ]
    },
    {
      "cell_type": "code",
      "metadata": {
        "id": "hgOHywNheeqq"
      },
      "source": [
        "#solve the issue of downloading MNIST dataset\r\n",
        "from six.moves import urllib\r\n",
        "opener = urllib.request.build_opener()\r\n",
        "opener.addheaders = [('User-agent', 'Mozilla/5.0')]\r\n",
        "urllib.request.install_opener(opener)"
      ],
      "execution_count": null,
      "outputs": []
    },
    {
      "cell_type": "code",
      "metadata": {
        "colab": {
          "base_uri": "https://localhost:8080/",
          "height": 290,
          "referenced_widgets": [
            "77c6620d44f44d90a5b102853656e1a2",
            "aae053deda9c4838b6a17d3912263fb4",
            "87ddf09002c1430abec9804789c23a3e",
            "78069b98d02f49ab8a3227c1be6703d4",
            "de8d0474a43742f79932f3f8230949ec",
            "fa84572a241e4313a8f5f06b83c4e56e",
            "c50c6d5c16e54485879dfc12a717d117",
            "723c5a0efb904911be351e1a309cac61"
          ]
        },
        "id": "1fFR0mlTLulZ",
        "outputId": "31791682-ad90-4998-c700-8978cda04c14"
      },
      "source": [
        "import torch\r\n",
        "from torch import nn\r\n",
        "import torch.nn.functional as F\r\n",
        "from torchvision import datasets, transforms\r\n",
        "\r\n",
        "# Define a transform to normalize the data\r\n",
        "transform = transforms.Compose([transforms.ToTensor(),\r\n",
        "                                transforms.Normalize((0.5,), (0.5,)),\r\n",
        "                              ])\r\n",
        "# Download and load the training data\r\n",
        "trainset = datasets.MNIST('/MNIST_data/', download=True, train=True, transform=transform)\r\n",
        "trainloader = torch.utils.data.DataLoader(trainset, batch_size=64, shuffle=True)"
      ],
      "execution_count": 3,
      "outputs": [
        {
          "output_type": "stream",
          "text": [
            "Using downloaded and verified file: /MNIST_data/MNIST/raw/train-images-idx3-ubyte.gz\n",
            "Extracting /MNIST_data/MNIST/raw/train-images-idx3-ubyte.gz to /MNIST_data/MNIST/raw\n",
            "Using downloaded and verified file: /MNIST_data/MNIST/raw/train-labels-idx1-ubyte.gz\n",
            "Extracting /MNIST_data/MNIST/raw/train-labels-idx1-ubyte.gz to /MNIST_data/MNIST/raw\n",
            "Using downloaded and verified file: /MNIST_data/MNIST/raw/t10k-images-idx3-ubyte.gz\n",
            "Extracting /MNIST_data/MNIST/raw/t10k-images-idx3-ubyte.gz to /MNIST_data/MNIST/raw\n",
            "Downloading http://yann.lecun.com/exdb/mnist/t10k-labels-idx1-ubyte.gz to /MNIST_data/MNIST/raw/t10k-labels-idx1-ubyte.gz\n"
          ],
          "name": "stdout"
        },
        {
          "output_type": "display_data",
          "data": {
            "application/vnd.jupyter.widget-view+json": {
              "model_id": "77c6620d44f44d90a5b102853656e1a2",
              "version_minor": 0,
              "version_major": 2
            },
            "text/plain": [
              "HBox(children=(FloatProgress(value=0.0, max=4542.0), HTML(value='')))"
            ]
          },
          "metadata": {
            "tags": []
          }
        },
        {
          "output_type": "stream",
          "text": [
            "\n",
            "Extracting /MNIST_data/MNIST/raw/t10k-labels-idx1-ubyte.gz to /MNIST_data/MNIST/raw\n",
            "Processing...\n",
            "Done!\n"
          ],
          "name": "stdout"
        },
        {
          "output_type": "stream",
          "text": [
            "/usr/local/lib/python3.7/dist-packages/torchvision/datasets/mnist.py:479: UserWarning: The given NumPy array is not writeable, and PyTorch does not support non-writeable tensors. This means you can write to the underlying (supposedly non-writeable) NumPy array using the tensor. You may want to copy the array to protect its data or make it writeable before converting it to a tensor. This type of warning will be suppressed for the rest of this program. (Triggered internally at  /pytorch/torch/csrc/utils/tensor_numpy.cpp:143.)\n",
            "  return torch.from_numpy(parsed.astype(m[2], copy=False)).view(*s)\n"
          ],
          "name": "stderr"
        }
      ]
    },
    {
      "cell_type": "markdown",
      "metadata": {
        "id": "gQUBs3mZDIe-"
      },
      "source": [
        "# Using the cross-entropy as a loss function"
      ]
    },
    {
      "cell_type": "code",
      "metadata": {
        "colab": {
          "base_uri": "https://localhost:8080/"
        },
        "id": "GN3Ond3lMQsI",
        "outputId": "fa61fc78-5bed-479d-b816-0497c7189143"
      },
      "source": [
        "model = nn.Sequential(nn.Linear(784, 128),\r\n",
        "                      nn.ReLU(),\r\n",
        "                      nn.Linear(128, 64),\r\n",
        "                      nn.ReLU(),\r\n",
        "                      nn.Linear(64, 10))\r\n",
        "\r\n",
        "# Define the loss\r\n",
        "criterion = nn.CrossEntropyLoss()\r\n",
        "\r\n",
        "# Get our data\r\n",
        "images, labels = next(iter(trainloader))\r\n",
        "# Flatten images\r\n",
        "images = images.view(images.shape[0], -1)\r\n",
        "\r\n",
        "# Forward pass, get our logits\r\n",
        "logits = model(images)\r\n",
        "# Calculate the loss with the logits and the labels\r\n",
        "loss = criterion(logits, labels)\r\n",
        "\r\n",
        "print(loss)"
      ],
      "execution_count": 4,
      "outputs": [
        {
          "output_type": "stream",
          "text": [
            "tensor(2.3187, grad_fn=<NllLossBackward>)\n"
          ],
          "name": "stdout"
        }
      ]
    },
    {
      "cell_type": "markdown",
      "metadata": {
        "id": "P6vLl3zpDV18"
      },
      "source": [
        "# Using the negative log likelihood loss as a loss function"
      ]
    },
    {
      "cell_type": "code",
      "metadata": {
        "colab": {
          "base_uri": "https://localhost:8080/"
        },
        "id": "k6d2qM-PDmuo",
        "outputId": "2693076a-85eb-4ef2-b716-b44c424f7472"
      },
      "source": [
        "## Solution\r\n",
        "\r\n",
        "# Build a feed-forward network\r\n",
        "model = nn.Sequential(nn.Linear(784, 128),\r\n",
        "                      nn.ReLU(),\r\n",
        "                      nn.Linear(128, 64),\r\n",
        "                      nn.ReLU(),\r\n",
        "                      nn.Linear(64, 10),\r\n",
        "                      nn.LogSoftmax(dim=1))\r\n",
        "\r\n",
        "# Define the loss\r\n",
        "criterion = nn.NLLLoss()\r\n",
        "\r\n",
        "# Get our data\r\n",
        "images, labels = next(iter(trainloader))\r\n",
        "# Flatten images\r\n",
        "images = images.view(images.shape[0], -1)\r\n",
        "\r\n",
        "# Forward pass, get our log-probabilities\r\n",
        "logps = model(images)\r\n",
        "# Calculate the loss with the logps and the labels\r\n",
        "loss = criterion(logps, labels)\r\n",
        "\r\n",
        "print(loss)"
      ],
      "execution_count": 5,
      "outputs": [
        {
          "output_type": "stream",
          "text": [
            "tensor(2.2926, grad_fn=<NllLossBackward>)\n"
          ],
          "name": "stdout"
        }
      ]
    },
    {
      "cell_type": "markdown",
      "metadata": {
        "id": "cpi0tCX-ET99"
      },
      "source": [
        "# Autograd"
      ]
    },
    {
      "cell_type": "markdown",
      "metadata": {
        "id": "qiYbKYMwI82-"
      },
      "source": [
        "The autograd module keeps track of these operations and knows how to calculate the gradient for each one. In this way, it's able to calculate the gradients for a chain of operations, with respect to any one tensor. "
      ]
    },
    {
      "cell_type": "code",
      "metadata": {
        "colab": {
          "base_uri": "https://localhost:8080/"
        },
        "id": "KE-HeXc1FtKK",
        "outputId": "31adcfd2-cf15-4908-a616-0b8e30cda2ed"
      },
      "source": [
        "x = torch.randn(2,2, requires_grad=True)\r\n",
        "print(x)"
      ],
      "execution_count": null,
      "outputs": [
        {
          "output_type": "stream",
          "text": [
            "tensor([[-0.2561,  0.6748],\n",
            "        [ 0.4683, -0.2937]], requires_grad=True)\n"
          ],
          "name": "stdout"
        }
      ]
    },
    {
      "cell_type": "code",
      "metadata": {
        "colab": {
          "base_uri": "https://localhost:8080/"
        },
        "id": "tekTfKrjJCgO",
        "outputId": "15cf9eb6-36c2-445f-ad1a-16026512e672"
      },
      "source": [
        "y = x**2\r\n",
        "print(y)"
      ],
      "execution_count": null,
      "outputs": [
        {
          "output_type": "stream",
          "text": [
            "tensor([[0.0656, 0.4554],\n",
            "        [0.2193, 0.0863]], grad_fn=<PowBackward0>)\n"
          ],
          "name": "stdout"
        }
      ]
    },
    {
      "cell_type": "code",
      "metadata": {
        "colab": {
          "base_uri": "https://localhost:8080/"
        },
        "id": "8Gc_R8eOJFXm",
        "outputId": "a8230149-9671-4a06-f7f8-1e8b1a7baf26"
      },
      "source": [
        "## grad_fn shows the function that generated this variable\r\n",
        "print(y.grad_fn)"
      ],
      "execution_count": null,
      "outputs": [
        {
          "output_type": "stream",
          "text": [
            "<PowBackward0 object at 0x7fda64367850>\n"
          ],
          "name": "stdout"
        }
      ]
    },
    {
      "cell_type": "code",
      "metadata": {
        "colab": {
          "base_uri": "https://localhost:8080/"
        },
        "id": "EKl_jljqJIJg",
        "outputId": "0432cf47-34f9-470b-a79d-dc4c3e367e98"
      },
      "source": [
        "z = y.mean()\r\n",
        "print(z)"
      ],
      "execution_count": null,
      "outputs": [
        {
          "output_type": "stream",
          "text": [
            "tensor(0.2067, grad_fn=<MeanBackward0>)\n"
          ],
          "name": "stdout"
        }
      ]
    },
    {
      "cell_type": "code",
      "metadata": {
        "colab": {
          "base_uri": "https://localhost:8080/"
        },
        "id": "bpzW-ttfJQYw",
        "outputId": "7d833845-54cc-403e-b383-e5af993fd94f"
      },
      "source": [
        "# You can check the gradients for x and y but they are empty currently.\r\n",
        "print(x.grad)"
      ],
      "execution_count": null,
      "outputs": [
        {
          "output_type": "stream",
          "text": [
            "None\n"
          ],
          "name": "stdout"
        }
      ]
    },
    {
      "cell_type": "code",
      "metadata": {
        "colab": {
          "base_uri": "https://localhost:8080/"
        },
        "id": "0c47zk2DJtcO",
        "outputId": "2cc0364e-96b3-4520-eac7-de6645780aee"
      },
      "source": [
        "# The .backward method will calculate the gradient for z with respect to x\r\n",
        "z.backward()\r\n",
        "print(x.grad)\r\n",
        "print(x/2)"
      ],
      "execution_count": null,
      "outputs": [
        {
          "output_type": "stream",
          "text": [
            "tensor([[-0.1281,  0.3374],\n",
            "        [ 0.2342, -0.1469]])\n",
            "tensor([[-0.1281,  0.3374],\n",
            "        [ 0.2342, -0.1469]], grad_fn=<DivBackward0>)\n"
          ],
          "name": "stdout"
        }
      ]
    },
    {
      "cell_type": "markdown",
      "metadata": {
        "id": "dFqLnfpyLf35"
      },
      "source": [
        "# Loss and Autograd together"
      ]
    },
    {
      "cell_type": "code",
      "metadata": {
        "id": "e99Db1GoLjFE"
      },
      "source": [
        "# Build a feed-forward network\r\n",
        "model = nn.Sequential(nn.Linear(784, 128),\r\n",
        "                      nn.ReLU(),\r\n",
        "                      nn.Linear(128, 64),\r\n",
        "                      nn.ReLU(),\r\n",
        "                      nn.Linear(64, 10),\r\n",
        "                      nn.LogSoftmax(dim=1))\r\n",
        "\r\n",
        "criterion = nn.NLLLoss()\r\n",
        "images, labels = next(iter(trainloader))\r\n",
        "images = images.view(images.shape[0], -1)\r\n",
        "\r\n",
        "logps = model(images)\r\n",
        "loss = criterion(logps, labels)"
      ],
      "execution_count": 6,
      "outputs": []
    },
    {
      "cell_type": "code",
      "metadata": {
        "colab": {
          "base_uri": "https://localhost:8080/"
        },
        "id": "UgRiuH-iLnc5",
        "outputId": "7a45ea8f-08e4-4f54-edab-8d5cc03ac85e"
      },
      "source": [
        "print('Before backward pass: \\n', model[0].weight.grad)\r\n",
        "\r\n",
        "loss.backward()\r\n",
        "\r\n",
        "print('After backward pass: \\n', model[0].weight.grad)"
      ],
      "execution_count": 7,
      "outputs": [
        {
          "output_type": "stream",
          "text": [
            "Before backward pass: \n",
            " None\n",
            "After backward pass: \n",
            " tensor([[-1.1751e-03, -1.1751e-03, -1.1751e-03,  ..., -1.1751e-03,\n",
            "         -1.1751e-03, -1.1751e-03],\n",
            "        [ 0.0000e+00,  0.0000e+00,  0.0000e+00,  ...,  0.0000e+00,\n",
            "          0.0000e+00,  0.0000e+00],\n",
            "        [ 1.2487e-03,  1.2487e-03,  1.2487e-03,  ...,  1.2487e-03,\n",
            "          1.2487e-03,  1.2487e-03],\n",
            "        ...,\n",
            "        [-2.7438e-04, -2.7438e-04, -2.7438e-04,  ..., -2.7438e-04,\n",
            "         -2.7438e-04, -2.7438e-04],\n",
            "        [-2.8165e-05, -2.8165e-05, -2.8165e-05,  ..., -2.8165e-05,\n",
            "         -2.8165e-05, -2.8165e-05],\n",
            "        [-5.2663e-03, -5.2663e-03, -5.2663e-03,  ..., -5.2663e-03,\n",
            "         -5.2663e-03, -5.2663e-03]])\n"
          ],
          "name": "stdout"
        }
      ]
    },
    {
      "cell_type": "markdown",
      "metadata": {
        "id": "RFnRRdWSL_lK"
      },
      "source": [
        "# Training the network!"
      ]
    },
    {
      "cell_type": "markdown",
      "metadata": {
        "id": "utLWVdzIM35U"
      },
      "source": [
        "# PyTorch optimizer to update the weights with the gradients."
      ]
    },
    {
      "cell_type": "code",
      "metadata": {
        "id": "qh_a4ro2M2i7"
      },
      "source": [
        "from torch import optim\r\n",
        "\r\n",
        "# Optimizers require the parameters to optimize and a learning rate\r\n",
        "optimizer = optim.SGD(model.parameters(), lr=0.01)"
      ],
      "execution_count": 8,
      "outputs": []
    },
    {
      "cell_type": "code",
      "metadata": {
        "colab": {
          "base_uri": "https://localhost:8080/"
        },
        "id": "67CQ4WopRoVk",
        "outputId": "12250b58-5a1d-42ac-9113-fcc6ca83af32"
      },
      "source": [
        "print('Initial weights - ', model[0].weight)\r\n",
        "\r\n",
        "images, labels = next(iter(trainloader))\r\n",
        "images.resize_(64, 784)\r\n",
        "\r\n",
        "# Clear the gradients, do this because gradients are accumulated\r\n",
        "optimizer.zero_grad()\r\n",
        "\r\n",
        "# Forward pass, then backward pass, then update weights\r\n",
        "output = model(images)\r\n",
        "loss = criterion(output, labels)\r\n",
        "loss.backward()\r\n",
        "print('Gradient -', model[0].weight.grad)"
      ],
      "execution_count": 9,
      "outputs": [
        {
          "output_type": "stream",
          "text": [
            "Initial weights -  Parameter containing:\n",
            "tensor([[-0.0250, -0.0127,  0.0190,  ...,  0.0226, -0.0085, -0.0210],\n",
            "        [ 0.0301, -0.0218,  0.0002,  ..., -0.0107,  0.0144,  0.0103],\n",
            "        [ 0.0248,  0.0107, -0.0176,  ..., -0.0256, -0.0077, -0.0119],\n",
            "        ...,\n",
            "        [-0.0075,  0.0302,  0.0097,  ...,  0.0320,  0.0032, -0.0277],\n",
            "        [ 0.0004,  0.0151, -0.0148,  ..., -0.0082,  0.0087,  0.0338],\n",
            "        [-0.0219, -0.0225,  0.0049,  ..., -0.0019,  0.0010, -0.0146]],\n",
            "       requires_grad=True)\n",
            "Gradient - tensor([[-0.0013, -0.0013, -0.0013,  ..., -0.0013, -0.0013, -0.0013],\n",
            "        [-0.0004, -0.0004, -0.0004,  ..., -0.0004, -0.0004, -0.0004],\n",
            "        [ 0.0066,  0.0066,  0.0066,  ...,  0.0066,  0.0066,  0.0066],\n",
            "        ...,\n",
            "        [ 0.0005,  0.0005,  0.0005,  ...,  0.0005,  0.0005,  0.0005],\n",
            "        [ 0.0011,  0.0011,  0.0011,  ...,  0.0011,  0.0011,  0.0011],\n",
            "        [ 0.0005,  0.0005,  0.0005,  ...,  0.0005,  0.0005,  0.0005]])\n"
          ],
          "name": "stdout"
        }
      ]
    },
    {
      "cell_type": "code",
      "metadata": {
        "colab": {
          "base_uri": "https://localhost:8080/"
        },
        "id": "mW8g9kf2Rt_N",
        "outputId": "342295da-cf23-4c48-8775-3e3fa3caded4"
      },
      "source": [
        "# Take an update step and few the new weights\r\n",
        "optimizer.step()\r\n",
        "print('Updated weights - ', model[0].weight)"
      ],
      "execution_count": 10,
      "outputs": [
        {
          "output_type": "stream",
          "text": [
            "Updated weights -  Parameter containing:\n",
            "tensor([[-0.0250, -0.0127,  0.0190,  ...,  0.0226, -0.0085, -0.0210],\n",
            "        [ 0.0301, -0.0218,  0.0002,  ..., -0.0107,  0.0144,  0.0103],\n",
            "        [ 0.0247,  0.0106, -0.0177,  ..., -0.0257, -0.0078, -0.0119],\n",
            "        ...,\n",
            "        [-0.0075,  0.0302,  0.0096,  ...,  0.0320,  0.0032, -0.0277],\n",
            "        [ 0.0004,  0.0151, -0.0148,  ..., -0.0082,  0.0087,  0.0338],\n",
            "        [-0.0219, -0.0225,  0.0049,  ..., -0.0019,  0.0010, -0.0146]],\n",
            "       requires_grad=True)\n"
          ],
          "name": "stdout"
        }
      ]
    },
    {
      "cell_type": "markdown",
      "metadata": {
        "id": "hG45naQGS_jl"
      },
      "source": [
        "# Training for real"
      ]
    },
    {
      "cell_type": "code",
      "metadata": {
        "colab": {
          "base_uri": "https://localhost:8080/"
        },
        "id": "hFPA7lZBS6KV",
        "outputId": "7aa69bce-a6bd-4727-8ff1-58a3237d9ea9"
      },
      "source": [
        "model = nn.Sequential(nn.Linear(784, 128),\r\n",
        "                      nn.ReLU(),\r\n",
        "                      nn.Linear(128, 64),\r\n",
        "                      nn.ReLU(),\r\n",
        "                      nn.Linear(64, 10),\r\n",
        "                      nn.LogSoftmax(dim=1))\r\n",
        "\r\n",
        "criterion = nn.NLLLoss()\r\n",
        "optimizer = optim.SGD(model.parameters(), lr=0.003)\r\n",
        "\r\n",
        "epochs = 5\r\n",
        "for e in range(epochs):\r\n",
        "    running_loss = 0\r\n",
        "    for images, labels in trainloader:\r\n",
        "        # Flatten MNIST images into a 784 long vector\r\n",
        "        images = images.view(images.shape[0], -1)\r\n",
        "    \r\n",
        "        # TODO: Training pass\r\n",
        "        optimizer.zero_grad()\r\n",
        "        \r\n",
        "        output = model(images)\r\n",
        "        loss = criterion(output, labels)\r\n",
        "        loss.backward()\r\n",
        "        optimizer.step()\r\n",
        "        \r\n",
        "        running_loss += loss.item()\r\n",
        "    else:\r\n",
        "        print(f\"Training loss: {running_loss/len(trainloader)}\")"
      ],
      "execution_count": 11,
      "outputs": [
        {
          "output_type": "stream",
          "text": [
            "Training loss: 1.8387502914806928\n",
            "Training loss: 0.806986749553477\n",
            "Training loss: 0.5130452767554631\n",
            "Training loss: 0.42385983869020366\n",
            "Training loss: 0.38189854839050186\n"
          ],
          "name": "stdout"
        }
      ]
    },
    {
      "cell_type": "markdown",
      "metadata": {
        "id": "rX6MIlpzV5YV"
      },
      "source": [
        "# With the network trained, we can check out it's predictions."
      ]
    },
    {
      "cell_type": "code",
      "metadata": {
        "colab": {
          "base_uri": "https://localhost:8080/"
        },
        "id": "2xR6Rfvii340",
        "outputId": "c807ea22-e375-4da5-9a23-c09ad435f5ed"
      },
      "source": [
        "#download the custom helper.py file to be able to desplay and view the image in the script below\r\n",
        "!wget https://raw.githubusercontent.com/udacity/deep-learning-v2-pytorch/3bd7dea850e936d8cb44adda8200e4e2b5d627e3/intro-to-pytorch/helper.py"
      ],
      "execution_count": 12,
      "outputs": [
        {
          "output_type": "stream",
          "text": [
            "--2021-03-17 01:29:43--  https://raw.githubusercontent.com/udacity/deep-learning-v2-pytorch/3bd7dea850e936d8cb44adda8200e4e2b5d627e3/intro-to-pytorch/helper.py\n",
            "Resolving raw.githubusercontent.com (raw.githubusercontent.com)... 185.199.108.133, 185.199.109.133, 185.199.110.133, ...\n",
            "Connecting to raw.githubusercontent.com (raw.githubusercontent.com)|185.199.108.133|:443... connected.\n",
            "HTTP request sent, awaiting response... 200 OK\n",
            "Length: 2813 (2.7K) [text/plain]\n",
            "Saving to: ‘helper.py’\n",
            "\n",
            "helper.py           100%[===================>]   2.75K  --.-KB/s    in 0s      \n",
            "\n",
            "2021-03-17 01:29:44 (49.6 MB/s) - ‘helper.py’ saved [2813/2813]\n",
            "\n"
          ],
          "name": "stdout"
        }
      ]
    },
    {
      "cell_type": "code",
      "metadata": {
        "colab": {
          "base_uri": "https://localhost:8080/",
          "height": 253
        },
        "id": "nTjnU5hsV8T3",
        "outputId": "0e7eb3c0-957f-4a8e-bef9-038c41ef4fe3"
      },
      "source": [
        "%matplotlib inline\r\n",
        "import custom_helper\r\n",
        "\r\n",
        "images, labels = next(iter(trainloader))\r\n",
        "\r\n",
        "img = images[0].view(1, 784)\r\n",
        "# Turn off gradients to speed up this part\r\n",
        "with torch.no_grad():\r\n",
        "    logps = model(img)\r\n",
        "\r\n",
        "# Output of the network are log-probabilities, need to take exponential for probabilities\r\n",
        "ps = torch.exp(logps)\r\n",
        "custom_helper.view_classify(img.view(1, 28, 28), ps)\r\n"
      ],
      "execution_count": 14,
      "outputs": [
        {
          "output_type": "display_data",
          "data": {
            "image/png": "[encoded data removed]",
            "text/plain": [
              "<Figure size 432x648 with 2 Axes>"
            ]
          },
          "metadata": {
            "tags": [],
            "needs_background": "light"
          }
        }
      ]
    }
  ]
}