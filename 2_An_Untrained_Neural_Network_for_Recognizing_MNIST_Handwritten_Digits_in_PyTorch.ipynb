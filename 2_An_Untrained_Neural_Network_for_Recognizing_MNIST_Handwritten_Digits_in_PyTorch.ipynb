{
  "nbformat": 4,
  "nbformat_minor": 0,
  "metadata": {
    "accelerator": "GPU",
    "colab": {
      "name": "2- An Untrained Neural Network for Recognizing MNIST Handwritten Digits in PyTorch.ipynb",
      "provenance": []
    },
    "kernelspec": {
      "display_name": "Python 3",
      "name": "python3"
    }
  },
  "cells": [
    {
      "cell_type": "code",
      "metadata": {
        "id": "SayAsM7V7O4s"
      },
      "source": [
        "#downloading another version of torchvision to solve the downlodin issue of MNIST dataset\r\n",
        "!pip3 install torch==1.7.1+cu101 torchvision==0.8.2+cu101 -f https://download.pytorch.org/whl/torch_stable.html"
      ],
      "execution_count": null,
      "outputs": []
    },
    {
      "cell_type": "code",
      "metadata": {
        "id": "V7K5CHfZ2uD_"
      },
      "source": [
        "# Import necessary packages\r\n",
        "\r\n",
        "%matplotlib inline\r\n",
        "%config InlineBackend.figure_format = 'retina'\r\n",
        "\r\n",
        "## for printing image\r\n",
        "import numpy as np \r\n",
        "import matplotlib.pyplot as plt\r\n",
        "\r\n",
        "import torch"
      ],
      "execution_count": 6,
      "outputs": []
    },
    {
      "cell_type": "code",
      "metadata": {
        "colab": {
          "base_uri": "https://localhost:8080/"
        },
        "id": "aCk_wxByJzef",
        "outputId": "120f3eea-36d3-467f-83ad-165e7a91a08c"
      },
      "source": [
        "print(torch.__version__)"
      ],
      "execution_count": 7,
      "outputs": [
        {
          "output_type": "stream",
          "text": [
            "1.8.0+cu101\n"
          ],
          "name": "stdout"
        }
      ]
    },
    {
      "cell_type": "code",
      "metadata": {
        "id": "9Dy2hGIEDxIt"
      },
      "source": [
        "#solve the issue of downloading MNIST dataset\r\n",
        "from six.moves import urllib\r\n",
        "opener = urllib.request.build_opener()\r\n",
        "opener.addheaders = [('User-agent', 'Mozilla/5.0')]\r\n",
        "urllib.request.install_opener(opener)"
      ],
      "execution_count": 8,
      "outputs": []
    },
    {
      "cell_type": "markdown",
      "metadata": {
        "id": "BnZINShfupYB"
      },
      "source": [
        "## Import torchvision package to download MNIST dataset"
      ]
    },
    {
      "cell_type": "code",
      "metadata": {
        "id": "rVexHRX6UBOS"
      },
      "source": [
        "### Run this cell\r\n",
        "\r\n",
        "import torchvision\r\n",
        "from torchvision import datasets, transforms\r\n",
        "\r\n",
        "# Define a transform to normalize the data\r\n",
        "transform = transforms.Compose([transforms.ToTensor(),\r\n",
        "                              transforms.Normalize((0.5,), (0.5,)),\r\n",
        "                              ])\r\n",
        "# Download and load the training data\r\n",
        "trainset = torchvision.datasets.MNIST(root='./MNIST_data' , download=True, train=True, transform=transform)\r\n",
        "\r\n",
        "trainloader = torch.utils.data.DataLoader(trainset, batch_size=64, shuffle=True)"
      ],
      "execution_count": null,
      "outputs": []
    },
    {
      "cell_type": "code",
      "metadata": {
        "colab": {
          "base_uri": "https://localhost:8080/"
        },
        "id": "xYJmIXITVPO2",
        "outputId": "be64daec-69bb-40a0-f068-04c89f96d478"
      },
      "source": [
        "dataiter = iter(trainloader)\r\n",
        "images, labels = dataiter.next()\r\n",
        "print(type(images))\r\n",
        "print(images.shape)\r\n",
        "print(labels.shape)"
      ],
      "execution_count": 10,
      "outputs": [
        {
          "output_type": "stream",
          "text": [
            "<class 'torch.Tensor'>\n",
            "torch.Size([64, 1, 28, 28])\n",
            "torch.Size([64])\n"
          ],
          "name": "stdout"
        }
      ]
    },
    {
      "cell_type": "code",
      "metadata": {
        "colab": {
          "base_uri": "https://localhost:8080/",
          "height": 265
        },
        "id": "7L1RKsEIEkKE",
        "outputId": "fe6b6b25-e265-4ec7-daef-8ad6d9ee2da3"
      },
      "source": [
        "plt.imshow(images[63].numpy().squeeze(), cmap='Greys_r');"
      ],
      "execution_count": 11,
      "outputs": [
        {
          "output_type": "display_data",
          "data": {
            "image/png": "[encoded data removed]",
            "text/plain": [
              "<Figure size 432x288 with 1 Axes>"
            ]
          },
          "metadata": {
            "tags": [],
            "image/png": {
              "width": 251,
              "height": 248
            },
            "needs_background": "light"
          }
        }
      ]
    },
    {
      "cell_type": "markdown",
      "metadata": {
        "id": "tRjtXqsJi8T7"
      },
      "source": [
        "# Build a neural network like previous lesson without using the PyTorch nn module\r\n"
      ]
    },
    {
      "cell_type": "code",
      "metadata": {
        "id": "4IvKjSc0ErzJ"
      },
      "source": [
        "## Solution\r\n",
        "def activation(x):\r\n",
        "    return 1/(1+torch.exp(-x))\r\n",
        "\r\n",
        "# Flatten the input images\r\n",
        "inputs = images.view(images.shape[0], -1)\r\n",
        "\r\n",
        "# Create parameters\r\n",
        "w1 = torch.randn(784, 256)\r\n",
        "b1 = torch.randn(256)\r\n",
        "\r\n",
        "w2 = torch.randn(256, 10)\r\n",
        "b2 = torch.randn(10)\r\n",
        "\r\n",
        "h = activation(torch.mm(inputs, w1) + b1)\r\n",
        "\r\n",
        "out = torch.mm(h, w2) + b2\r\n"
      ],
      "execution_count": null,
      "outputs": []
    },
    {
      "cell_type": "markdown",
      "metadata": {
        "id": "nUfEoxSIk7X3"
      },
      "source": [
        "# create a softmax activation function for compute the output as a probability distribution over the 10 classes (digits)"
      ]
    },
    {
      "cell_type": "code",
      "metadata": {
        "colab": {
          "base_uri": "https://localhost:8080/"
        },
        "id": "eVsWHo0CE6MG",
        "outputId": "5afb231c-5586-43c1-cfb0-01131a137bca"
      },
      "source": [
        "## Solution\r\n",
        "def softmax(x):\r\n",
        "    return torch.exp(x)/torch.sum(torch.exp(x), dim=1).view(-1, 1)\r\n",
        "\r\n",
        "probabilities = softmax(out)\r\n",
        "\r\n",
        "# Does it have the right shape? Should be (64, 10)\r\n",
        "print(probabilities.shape)\r\n",
        "# Does it sum to 1?\r\n",
        "print(probabilities.sum(dim=1))"
      ],
      "execution_count": null,
      "outputs": [
        {
          "output_type": "stream",
          "text": [
            "torch.Size([64, 10])\n",
            "tensor([1.0000, 1.0000, 1.0000, 1.0000, 1.0000, 1.0000, 1.0000, 1.0000, 1.0000,\n",
            "        1.0000, 1.0000, 1.0000, 1.0000, 1.0000, 1.0000, 1.0000, 1.0000, 1.0000,\n",
            "        1.0000, 1.0000, 1.0000, 1.0000, 1.0000, 1.0000, 1.0000, 1.0000, 1.0000,\n",
            "        1.0000, 1.0000, 1.0000, 1.0000, 1.0000, 1.0000, 1.0000, 1.0000, 1.0000,\n",
            "        1.0000, 1.0000, 1.0000, 1.0000, 1.0000, 1.0000, 1.0000, 1.0000, 1.0000,\n",
            "        1.0000, 1.0000, 1.0000, 1.0000, 1.0000, 1.0000, 1.0000, 1.0000, 1.0000,\n",
            "        1.0000, 1.0000, 1.0000, 1.0000, 1.0000, 1.0000, 1.0000, 1.0000, 1.0000,\n",
            "        1.0000])\n"
          ],
          "name": "stdout"
        }
      ]
    },
    {
      "cell_type": "markdown",
      "metadata": {
        "id": "37I8RU55mi5P"
      },
      "source": [
        "# Using a PyTorch nn module to build networks with 784 inputs, 256 hidden units, 10 output units and a softmax output 'the same one as above'"
      ]
    },
    {
      "cell_type": "code",
      "metadata": {
        "id": "hcTCMMSZFOMI"
      },
      "source": [
        "from torch import nn"
      ],
      "execution_count": 12,
      "outputs": []
    },
    {
      "cell_type": "code",
      "metadata": {
        "id": "2P9ih93qFUko"
      },
      "source": [
        "class Network(nn.Module):\r\n",
        "    def __init__(self):\r\n",
        "        super().__init__()\r\n",
        "        \r\n",
        "        # Inputs to hidden layer linear transformation\r\n",
        "        self.hidden = nn.Linear(784, 256)\r\n",
        "        # Output layer, 10 units - one for each digit\r\n",
        "        self.output = nn.Linear(256, 10)\r\n",
        "        \r\n",
        "        # Define sigmoid activation and softmax output \r\n",
        "        self.sigmoid = nn.Sigmoid()\r\n",
        "        self.softmax = nn.Softmax(dim=1)\r\n",
        "        \r\n",
        "    def forward(self, x):\r\n",
        "        # Pass the input tensor through each of our operations\r\n",
        "        x = self.hidden(x)\r\n",
        "        x = self.sigmoid(x)\r\n",
        "        x = self.output(x)\r\n",
        "        x = self.softmax(x)\r\n",
        "        \r\n",
        "        return x"
      ],
      "execution_count": null,
      "outputs": []
    },
    {
      "cell_type": "code",
      "metadata": {
        "colab": {
          "background_save": true,
          "base_uri": "https://localhost:8080/"
        },
        "id": "7Y5w1AQfFYkU",
        "outputId": "c0421d8b-47d7-437e-a107-7810465d824b"
      },
      "source": [
        "#Create the network object and look at it's text representation\r\n",
        "model = Network()\r\n",
        "model"
      ],
      "execution_count": null,
      "outputs": [
        {
          "output_type": "execute_result",
          "data": {
            "text/plain": [
              "Network(\n",
              "  (hidden): Linear(in_features=784, out_features=256, bias=True)\n",
              "  (output): Linear(in_features=256, out_features=10, bias=True)\n",
              "  (sigmoid): Sigmoid()\n",
              "  (softmax): Softmax(dim=1)\n",
              ")"
            ]
          },
          "metadata": {
            "tags": []
          },
          "execution_count": 0
        }
      ]
    },
    {
      "cell_type": "code",
      "metadata": {
        "id": "7aZZg_1CFkCV"
      },
      "source": [
        "import torch.nn.functional as F\r\n",
        "\r\n",
        "class Network(nn.Module):\r\n",
        "    def __init__(self):\r\n",
        "        super().__init__()\r\n",
        "        # Inputs to hidden layer linear transformation\r\n",
        "        self.hidden = nn.Linear(784, 256)\r\n",
        "        # Output layer, 10 units - one for each digit\r\n",
        "        self.output = nn.Linear(256, 10)\r\n",
        "        \r\n",
        "    def forward(self, x):\r\n",
        "        # Hidden layer with sigmoid activation\r\n",
        "        x = F.sigmoid(self.hidden(x))\r\n",
        "        # Output layer with softmax activation\r\n",
        "        x = F.softmax(self.output(x), dim=1)\r\n",
        "        \r\n",
        "        return x"
      ],
      "execution_count": 13,
      "outputs": []
    },
    {
      "cell_type": "code",
      "metadata": {
        "colab": {
          "base_uri": "https://localhost:8080/"
        },
        "id": "NTt7IzUmkhEZ",
        "outputId": "f7c5df12-ea7e-4e05-e9b1-6e303ab0cc60"
      },
      "source": [
        "model = Network()\r\n",
        "model"
      ],
      "execution_count": 14,
      "outputs": [
        {
          "output_type": "execute_result",
          "data": {
            "text/plain": [
              "Network(\n",
              "  (hidden): Linear(in_features=784, out_features=256, bias=True)\n",
              "  (output): Linear(in_features=256, out_features=10, bias=True)\n",
              ")"
            ]
          },
          "metadata": {
            "tags": []
          },
          "execution_count": 14
        }
      ]
    },
    {
      "cell_type": "markdown",
      "metadata": {
        "id": "q9lUArjQua92"
      },
      "source": [
        "# Your Turn to Build a Network (a fully-connected layer)![لقطة الشاشة 2021-03-11 222025.png](data:image/png;base64,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)"
      ]
    },
    {
      "cell_type": "code",
      "metadata": {
        "colab": {
          "base_uri": "https://localhost:8080/"
        },
        "id": "QtL-GNO6F3LC",
        "outputId": "5cf83595-b3c1-4097-a2b8-9a8bec0de10c"
      },
      "source": [
        "##Solution\r\n",
        "\r\n",
        "class Network(nn.Module):\r\n",
        "    def __init__(self):\r\n",
        "        super().__init__()\r\n",
        "        # Defining the layers, 128, 64, 10 units each\r\n",
        "        self.fc1 = nn.Linear(784, 128)\r\n",
        "        self.fc2 = nn.Linear(128, 64)\r\n",
        "        # Output layer, 10 units - one for each digit\r\n",
        "        self.fc3 = nn.Linear(64, 10)\r\n",
        "        \r\n",
        "    def forward(self, x):\r\n",
        "        ''' Forward pass through the network, returns the output logits '''\r\n",
        "        \r\n",
        "        x = self.fc1(x)\r\n",
        "        x = F.relu(x)\r\n",
        "        x = self.fc2(x)\r\n",
        "        x = F.relu(x)\r\n",
        "        x = self.fc3(x)\r\n",
        "        x = F.softmax(x, dim=1)\r\n",
        "        \r\n",
        "        return x\r\n",
        "\r\n",
        "model = Network()\r\n",
        "model"
      ],
      "execution_count": 16,
      "outputs": [
        {
          "output_type": "execute_result",
          "data": {
            "text/plain": [
              "Network(\n",
              "  (fc1): Linear(in_features=784, out_features=128, bias=True)\n",
              "  (fc2): Linear(in_features=128, out_features=64, bias=True)\n",
              "  (fc3): Linear(in_features=64, out_features=10, bias=True)\n",
              ")"
            ]
          },
          "metadata": {
            "tags": []
          },
          "execution_count": 16
        }
      ]
    },
    {
      "cell_type": "code",
      "metadata": {
        "colab": {
          "base_uri": "https://localhost:8080/"
        },
        "id": "XYLId6_RvUP7",
        "outputId": "8bb3dc47-f5ff-48fd-b31d-632ceb6944e8"
      },
      "source": [
        "model.fc1"
      ],
      "execution_count": 17,
      "outputs": [
        {
          "output_type": "execute_result",
          "data": {
            "text/plain": [
              "Linear(in_features=784, out_features=128, bias=True)"
            ]
          },
          "metadata": {
            "tags": []
          },
          "execution_count": 17
        }
      ]
    },
    {
      "cell_type": "code",
      "metadata": {
        "colab": {
          "base_uri": "https://localhost:8080/"
        },
        "id": "ZGKt9nP4wQWC",
        "outputId": "9a6d4ec1-adf2-4a03-f667-c7b4207e7b95"
      },
      "source": [
        "model.fc2"
      ],
      "execution_count": 18,
      "outputs": [
        {
          "output_type": "execute_result",
          "data": {
            "text/plain": [
              "Linear(in_features=128, out_features=64, bias=True)"
            ]
          },
          "metadata": {
            "tags": []
          },
          "execution_count": 18
        }
      ]
    },
    {
      "cell_type": "code",
      "metadata": {
        "colab": {
          "base_uri": "https://localhost:8080/"
        },
        "id": "XKvUe3knwUHL",
        "outputId": "7807c5dd-13a3-4a3c-cadf-888f9f9a2ab7"
      },
      "source": [
        "model.fc3"
      ],
      "execution_count": 19,
      "outputs": [
        {
          "output_type": "execute_result",
          "data": {
            "text/plain": [
              "Linear(in_features=64, out_features=10, bias=True)"
            ]
          },
          "metadata": {
            "tags": []
          },
          "execution_count": 19
        }
      ]
    },
    {
      "cell_type": "code",
      "metadata": {
        "colab": {
          "base_uri": "https://localhost:8080/"
        },
        "id": "6DepIs41GAIu",
        "outputId": "c6d2f1a1-2003-443e-e969-e5ebc033b4aa"
      },
      "source": [
        "print(model.fc1.weight)\r\n",
        "print(model.fc1.bias)"
      ],
      "execution_count": null,
      "outputs": [
        {
          "output_type": "stream",
          "text": [
            "Parameter containing:\n",
            "tensor([[ 0.0200, -0.0156,  0.0299,  ..., -0.0052,  0.0247,  0.0286],\n",
            "        [-0.0265,  0.0112,  0.0098,  ..., -0.0166,  0.0183,  0.0200],\n",
            "        [-0.0271,  0.0267,  0.0220,  ..., -0.0050, -0.0304, -0.0040],\n",
            "        ...,\n",
            "        [-0.0258,  0.0216,  0.0071,  ...,  0.0004,  0.0284, -0.0135],\n",
            "        [-0.0188,  0.0135, -0.0277,  ...,  0.0050,  0.0251, -0.0310],\n",
            "        [ 0.0002, -0.0209, -0.0235,  ...,  0.0285,  0.0255, -0.0067]],\n",
            "       requires_grad=True)\n",
            "Parameter containing:\n",
            "tensor([-5.6904e-03,  2.4745e-02, -5.3590e-03,  4.8807e-03, -2.6803e-02,\n",
            "         2.6373e-02, -1.9408e-02, -1.1972e-02,  1.1374e-02,  6.1753e-03,\n",
            "         2.0263e-02, -2.3219e-02,  2.4835e-04,  2.5261e-02,  1.8106e-02,\n",
            "        -3.1562e-02,  2.7008e-02, -1.1418e-02,  2.3526e-02,  3.2736e-02,\n",
            "         2.0467e-02,  1.2627e-03, -2.7554e-02, -3.2887e-02, -8.9781e-03,\n",
            "        -1.1398e-02, -3.5431e-02, -1.6823e-02, -3.1045e-02,  8.9191e-03,\n",
            "        -1.4235e-02, -1.8227e-02,  9.5317e-03, -3.6405e-03, -1.5812e-02,\n",
            "         1.2447e-02,  2.8473e-02,  1.3157e-02,  5.4564e-03, -5.9754e-05,\n",
            "        -2.3152e-02,  3.8602e-03, -3.5424e-03,  1.2027e-02, -2.4825e-02,\n",
            "        -1.2481e-02, -1.8843e-02,  2.2219e-02,  2.5554e-02, -1.4046e-02,\n",
            "        -7.1816e-03,  8.8104e-03,  2.5794e-02,  3.3580e-02,  2.1925e-02,\n",
            "        -1.2316e-02,  6.7329e-04,  1.5079e-02, -1.8035e-03,  1.5657e-02,\n",
            "        -8.0424e-03, -7.9745e-03, -3.0774e-02,  2.3817e-04,  1.5330e-02,\n",
            "         3.4382e-02, -3.8678e-03,  3.3208e-02, -7.4924e-03, -3.2866e-02,\n",
            "         4.8334e-03,  2.2708e-03, -3.7970e-03,  2.5937e-02,  2.9860e-02,\n",
            "        -2.4286e-02, -1.1774e-02,  6.6258e-03, -1.9316e-02, -2.3343e-02,\n",
            "         1.5553e-02, -2.9140e-02,  2.3815e-02, -3.0090e-02, -7.2545e-03,\n",
            "        -1.7006e-02, -3.1968e-02,  6.2121e-03,  1.8149e-02, -1.2695e-02,\n",
            "         1.8399e-02,  3.0629e-02,  3.0366e-02,  1.7949e-02,  1.8474e-02,\n",
            "         6.1321e-03,  2.8323e-02, -1.9966e-02,  2.1713e-02,  2.8046e-02,\n",
            "         4.1472e-03,  1.0870e-02, -3.5275e-02, -3.4251e-02, -1.5935e-02,\n",
            "        -3.0501e-02,  3.3617e-02, -3.3682e-02,  1.9316e-02, -1.3360e-03,\n",
            "         2.1506e-02,  1.8917e-02,  1.8387e-02,  2.7204e-02, -3.1937e-02,\n",
            "        -5.8437e-03,  3.4335e-02,  8.0635e-03, -3.2205e-02,  1.3107e-02,\n",
            "        -2.1768e-02,  2.8404e-02, -6.5234e-03, -2.2320e-02, -2.4917e-02,\n",
            "         1.7286e-02, -2.0317e-02,  3.1833e-02], requires_grad=True)\n"
          ],
          "name": "stdout"
        }
      ]
    },
    {
      "cell_type": "markdown",
      "metadata": {
        "id": "S9e-LbdzxKr4"
      },
      "source": [
        "# Custom initialization for the weights and biases tensors attached to each layer"
      ]
    },
    {
      "cell_type": "code",
      "metadata": {
        "colab": {
          "base_uri": "https://localhost:8080/"
        },
        "id": "uqeapHRHGHld",
        "outputId": "158bae46-0614-4adc-ba32-8674641d6ecc"
      },
      "source": [
        "#Set biases to all zeros\r\n",
        "model.fc1.bias.data.fill_(0)"
      ],
      "execution_count": null,
      "outputs": [
        {
          "output_type": "execute_result",
          "data": {
            "text/plain": [
              "tensor([0., 0., 0., 0., 0., 0., 0., 0., 0., 0., 0., 0., 0., 0., 0., 0., 0., 0., 0., 0., 0., 0., 0., 0.,\n",
              "        0., 0., 0., 0., 0., 0., 0., 0., 0., 0., 0., 0., 0., 0., 0., 0., 0., 0., 0., 0., 0., 0., 0., 0.,\n",
              "        0., 0., 0., 0., 0., 0., 0., 0., 0., 0., 0., 0., 0., 0., 0., 0., 0., 0., 0., 0., 0., 0., 0., 0.,\n",
              "        0., 0., 0., 0., 0., 0., 0., 0., 0., 0., 0., 0., 0., 0., 0., 0., 0., 0., 0., 0., 0., 0., 0., 0.,\n",
              "        0., 0., 0., 0., 0., 0., 0., 0., 0., 0., 0., 0., 0., 0., 0., 0., 0., 0., 0., 0., 0., 0., 0., 0.,\n",
              "        0., 0., 0., 0., 0., 0., 0., 0.])"
            ]
          },
          "metadata": {
            "tags": []
          },
          "execution_count": 17
        }
      ]
    },
    {
      "cell_type": "code",
      "metadata": {
        "colab": {
          "base_uri": "https://localhost:8080/"
        },
        "id": "sY1AeXVoIWou",
        "outputId": "d199f7fc-c8bc-4ab0-d1bd-071061e9d805"
      },
      "source": [
        "#sample from random normal with standard dev = 0.01\r\n",
        "model.fc1.weight.data.normal_(std=0.01)"
      ],
      "execution_count": null,
      "outputs": [
        {
          "output_type": "execute_result",
          "data": {
            "text/plain": [
              "tensor([[-0.0117, -0.0270,  0.0120,  ...,  0.0099, -0.0184, -0.0069],\n",
              "        [ 0.0126, -0.0073,  0.0041,  ...,  0.0058, -0.0010, -0.0157],\n",
              "        [-0.0017, -0.0051,  0.0043,  ..., -0.0053,  0.0069,  0.0126],\n",
              "        ...,\n",
              "        [ 0.0004, -0.0019, -0.0073,  ...,  0.0106, -0.0183,  0.0054],\n",
              "        [-0.0130, -0.0015,  0.0025,  ...,  0.0019, -0.0042, -0.0061],\n",
              "        [ 0.0101, -0.0071,  0.0030,  ...,  0.0039, -0.0071, -0.0027]])"
            ]
          },
          "metadata": {
            "tags": []
          },
          "execution_count": 18
        }
      ]
    },
    {
      "cell_type": "code",
      "metadata": {
        "id": "UKIGufA3I44w"
      },
      "source": [
        "#download the custom helper.py file to be able to desplay and view the image in the script below\r\n",
        "!wget https://raw.githubusercontent.com/udacity/deep-learning-v2-pytorch/3bd7dea850e936d8cb44adda8200e4e2b5d627e3/intro-to-pytorch/helper.py"
      ],
      "execution_count": null,
      "outputs": []
    },
    {
      "cell_type": "code",
      "metadata": {
        "colab": {
          "base_uri": "https://localhost:8080/",
          "height": 252
        },
        "id": "JP0kwIikIpG9",
        "outputId": "e18361ea-70b7-48b4-cd15-328f4d4b2a12"
      },
      "source": [
        "import helper\r\n",
        "\r\n",
        "# Grab some data \r\n",
        "dataiter = iter(trainloader)\r\n",
        "images, labels = dataiter.next()\r\n",
        "\r\n",
        "# Resize images into a 1D vector, new shape is (batch size, color channels, image pixels) \r\n",
        "images.resize_(64, 1, 784)\r\n",
        "# or images.resize_(images.shape[0], 1, 784) to automatically get batch size\r\n",
        "\r\n",
        "# Forward pass through the network\r\n",
        "img_idx = 0\r\n",
        "ps = model.forward(images[img_idx,:])\r\n",
        "\r\n",
        "img = images[img_idx] \r\n",
        "\r\n",
        "helper.view_classify(img.view(1, 28, 28), ps)"
      ],
      "execution_count": null,
      "outputs": [
        {
          "output_type": "display_data",
          "data": {
            "image/png": "[encoded data removed]",
            "text/plain": [
              "<Figure size 432x648 with 2 Axes>"
            ]
          },
          "metadata": {
            "tags": [],
            "image/png": {
              "height": 235,
              "width": 424
            }
          }
        }
      ]
    },
    {
      "cell_type": "markdown",
      "metadata": {
        "id": "RcDi115r0waR"
      },
      "source": [
        "# Using nn.Sequential"
      ]
    },
    {
      "cell_type": "code",
      "metadata": {
        "colab": {
          "base_uri": "https://localhost:8080/",
          "height": 388
        },
        "id": "R2-cPHdyWcTS",
        "outputId": "3d8c6824-8c3c-4b08-f48e-392c5943b5f6"
      },
      "source": [
        "#Hyperparameters for our network\r\n",
        "input_size = 784\r\n",
        "hidden_sizes = [128, 64]\r\n",
        "output_size = 10\r\n",
        "\r\n",
        "# Build a feed-forward network\r\n",
        "model = nn.Sequential(nn.Linear(input_size, hidden_sizes[0]),\r\n",
        "                      nn.ReLU(),\r\n",
        "                      nn.Linear(hidden_sizes[0], hidden_sizes[1]),\r\n",
        "                      nn.ReLU(),\r\n",
        "                      nn.Linear(hidden_sizes[1], output_size),\r\n",
        "                      nn.Softmax(dim=1))\r\n",
        "print(model)\r\n",
        "\r\n",
        "# Forward pass through the network and display output\r\n",
        "images, labels = next(iter(trainloader))\r\n",
        "images.resize_(images.shape[0], 1, 784)\r\n",
        "ps = model.forward(images[0,:])\r\n",
        "helper.view_classify(images[0].view(1, 28, 28), ps)"
      ],
      "execution_count": null,
      "outputs": [
        {
          "output_type": "stream",
          "text": [
            "Sequential(\n",
            "  (0): Linear(in_features=784, out_features=128, bias=True)\n",
            "  (1): ReLU()\n",
            "  (2): Linear(in_features=128, out_features=64, bias=True)\n",
            "  (3): ReLU()\n",
            "  (4): Linear(in_features=64, out_features=10, bias=True)\n",
            "  (5): Softmax(dim=1)\n",
            ")\n"
          ],
          "name": "stdout"
        },
        {
          "output_type": "display_data",
          "data": {
            "image/png": "[encoded data removed]",
            "text/plain": [
              "<Figure size 432x648 with 2 Axes>"
            ]
          },
          "metadata": {
            "tags": [],
            "image/png": {
              "height": 235,
              "width": 424
            }
          }
        }
      ]
    },
    {
      "cell_type": "markdown",
      "metadata": {
        "id": "eGgzE92_56Bj"
      },
      "source": [
        "# Access a particular layer and weight attached to it"
      ]
    },
    {
      "cell_type": "code",
      "metadata": {
        "colab": {
          "base_uri": "https://localhost:8080/"
        },
        "id": "Ax2jM_MJWdOD",
        "outputId": "8c4611c6-fc68-48e0-887e-8311677ae878"
      },
      "source": [
        "print(model[0])\r\n",
        "model[0].weight"
      ],
      "execution_count": null,
      "outputs": [
        {
          "output_type": "stream",
          "text": [
            "Linear(in_features=784, out_features=128, bias=True)\n"
          ],
          "name": "stdout"
        },
        {
          "output_type": "execute_result",
          "data": {
            "text/plain": [
              "Parameter containing:\n",
              "tensor([[ 0.0174, -0.0355,  0.0321,  ..., -0.0259, -0.0152,  0.0193],\n",
              "        [-0.0055,  0.0157,  0.0209,  ..., -0.0108,  0.0255, -0.0019],\n",
              "        [ 0.0221, -0.0334,  0.0260,  ..., -0.0059, -0.0308,  0.0207],\n",
              "        ...,\n",
              "        [-0.0056,  0.0280, -0.0086,  ...,  0.0175,  0.0088, -0.0290],\n",
              "        [ 0.0150,  0.0093,  0.0036,  ...,  0.0118,  0.0102, -0.0115],\n",
              "        [ 0.0079, -0.0304, -0.0293,  ...,  0.0123,  0.0321,  0.0328]],\n",
              "       requires_grad=True)"
            ]
          },
          "metadata": {
            "tags": []
          },
          "execution_count": 23
        }
      ]
    },
    {
      "cell_type": "markdown",
      "metadata": {
        "id": "rwbV7ufc6XVj"
      },
      "source": [
        "# Using an OrderedDict to name the individual layers and operations, instead of using incremental integers"
      ]
    },
    {
      "cell_type": "code",
      "metadata": {
        "colab": {
          "base_uri": "https://localhost:8080/"
        },
        "id": "tCIIDgKrWta0",
        "outputId": "2c973265-ae3f-45fb-eb32-5bae83b960a4"
      },
      "source": [
        "from collections import OrderedDict\r\n",
        "model = nn.Sequential(OrderedDict([\r\n",
        "                      ('fc1', nn.Linear(input_size, hidden_sizes[0])),\r\n",
        "                      ('relu1', nn.ReLU()),\r\n",
        "                      ('fc2', nn.Linear(hidden_sizes[0], hidden_sizes[1])),\r\n",
        "                      ('relu2', nn.ReLU()),\r\n",
        "                      ('output', nn.Linear(hidden_sizes[1], output_size)),\r\n",
        "                      ('softmax', nn.Softmax(dim=1))]))\r\n",
        "model"
      ],
      "execution_count": null,
      "outputs": [
        {
          "output_type": "execute_result",
          "data": {
            "text/plain": [
              "Sequential(\n",
              "  (fc1): Linear(in_features=784, out_features=128, bias=True)\n",
              "  (relu1): ReLU()\n",
              "  (fc2): Linear(in_features=128, out_features=64, bias=True)\n",
              "  (relu2): ReLU()\n",
              "  (output): Linear(in_features=64, out_features=10, bias=True)\n",
              "  (softmax): Softmax(dim=1)\n",
              ")"
            ]
          },
          "metadata": {
            "tags": []
          },
          "execution_count": 24
        }
      ]
    },
    {
      "cell_type": "code",
      "metadata": {
        "colab": {
          "base_uri": "https://localhost:8080/"
        },
        "id": "G9bwFNkDH04y",
        "outputId": "1caea7e0-e5f8-4a65-f85e-501c64a44f7a"
      },
      "source": [
        "print(model[0])\r\n",
        "print(model.fc1)"
      ],
      "execution_count": null,
      "outputs": [
        {
          "output_type": "stream",
          "text": [
            "Linear(in_features=784, out_features=128, bias=True)\n",
            "Linear(in_features=784, out_features=128, bias=True)\n"
          ],
          "name": "stdout"
        }
      ]
    }
  ]
}