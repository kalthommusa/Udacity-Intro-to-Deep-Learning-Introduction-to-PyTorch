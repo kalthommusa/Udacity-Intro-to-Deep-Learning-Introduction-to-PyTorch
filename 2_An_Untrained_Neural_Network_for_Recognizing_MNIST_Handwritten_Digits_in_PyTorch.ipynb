{
  "nbformat": 4,
  "nbformat_minor": 0,
  "metadata": {
    "colab": {
      "name": "2- An Untrained Neural Network for Recognizing MNIST Handwritten Digits in PyTorch.ipynb",
      "provenance": []
    },
    "kernelspec": {
      "name": "python3",
      "display_name": "Python 3"
    },
    "widgets": {
      "application/vnd.jupyter.widget-state+json": {
        "aecfa74863e84ce5ac23bd5de2cb2f26": {
          "model_module": "@jupyter-widgets/controls",
          "model_name": "HBoxModel",
          "state": {
            "_view_name": "HBoxView",
            "_dom_classes": [],
            "_model_name": "HBoxModel",
            "_view_module": "@jupyter-widgets/controls",
            "_model_module_version": "1.5.0",
            "_view_count": null,
            "_view_module_version": "1.5.0",
            "box_style": "",
            "layout": "IPY_MODEL_b6e404a793e049168758bb7dd3827026",
            "_model_module": "@jupyter-widgets/controls",
            "children": [
              "IPY_MODEL_9ffcc47c90a44e89a7777bdba2a6970b",
              "IPY_MODEL_cb44cdafc9dd4530979c10e6d23d0889"
            ]
          }
        },
        "b6e404a793e049168758bb7dd3827026": {
          "model_module": "@jupyter-widgets/base",
          "model_name": "LayoutModel",
          "state": {
            "_view_name": "LayoutView",
            "grid_template_rows": null,
            "right": null,
            "justify_content": null,
            "_view_module": "@jupyter-widgets/base",
            "overflow": null,
            "_model_module_version": "1.2.0",
            "_view_count": null,
            "flex_flow": null,
            "width": null,
            "min_width": null,
            "border": null,
            "align_items": null,
            "bottom": null,
            "_model_module": "@jupyter-widgets/base",
            "top": null,
            "grid_column": null,
            "overflow_y": null,
            "overflow_x": null,
            "grid_auto_flow": null,
            "grid_area": null,
            "grid_template_columns": null,
            "flex": null,
            "_model_name": "LayoutModel",
            "justify_items": null,
            "grid_row": null,
            "max_height": null,
            "align_content": null,
            "visibility": null,
            "align_self": null,
            "height": null,
            "min_height": null,
            "padding": null,
            "grid_auto_rows": null,
            "grid_gap": null,
            "max_width": null,
            "order": null,
            "_view_module_version": "1.2.0",
            "grid_template_areas": null,
            "object_position": null,
            "object_fit": null,
            "grid_auto_columns": null,
            "margin": null,
            "display": null,
            "left": null
          }
        },
        "9ffcc47c90a44e89a7777bdba2a6970b": {
          "model_module": "@jupyter-widgets/controls",
          "model_name": "FloatProgressModel",
          "state": {
            "_view_name": "ProgressView",
            "style": "IPY_MODEL_799f2a481f864749af1833b394de2ae1",
            "_dom_classes": [],
            "description": " 75%",
            "_model_name": "FloatProgressModel",
            "bar_style": "info",
            "max": 1,
            "_view_module": "@jupyter-widgets/controls",
            "_model_module_version": "1.5.0",
            "value": 1,
            "_view_count": null,
            "_view_module_version": "1.5.0",
            "orientation": "horizontal",
            "min": 0,
            "description_tooltip": null,
            "_model_module": "@jupyter-widgets/controls",
            "layout": "IPY_MODEL_4c8b57359cc546c8b694ba15d7304b80"
          }
        },
        "cb44cdafc9dd4530979c10e6d23d0889": {
          "model_module": "@jupyter-widgets/controls",
          "model_name": "HTMLModel",
          "state": {
            "_view_name": "HTMLView",
            "style": "IPY_MODEL_24005bca087c4cbda5d021aa844235ed",
            "_dom_classes": [],
            "description": "",
            "_model_name": "HTMLModel",
            "placeholder": "​",
            "_view_module": "@jupyter-widgets/controls",
            "_model_module_version": "1.5.0",
            "value": " 7430144/9912422 [00:01&lt;00:03, 808111.76it/s]",
            "_view_count": null,
            "_view_module_version": "1.5.0",
            "description_tooltip": null,
            "_model_module": "@jupyter-widgets/controls",
            "layout": "IPY_MODEL_1503a0273f9e45159ef7aeeda0ef7dd8"
          }
        },
        "799f2a481f864749af1833b394de2ae1": {
          "model_module": "@jupyter-widgets/controls",
          "model_name": "ProgressStyleModel",
          "state": {
            "_view_name": "StyleView",
            "_model_name": "ProgressStyleModel",
            "description_width": "initial",
            "_view_module": "@jupyter-widgets/base",
            "_model_module_version": "1.5.0",
            "_view_count": null,
            "_view_module_version": "1.2.0",
            "bar_color": null,
            "_model_module": "@jupyter-widgets/controls"
          }
        },
        "4c8b57359cc546c8b694ba15d7304b80": {
          "model_module": "@jupyter-widgets/base",
          "model_name": "LayoutModel",
          "state": {
            "_view_name": "LayoutView",
            "grid_template_rows": null,
            "right": null,
            "justify_content": null,
            "_view_module": "@jupyter-widgets/base",
            "overflow": null,
            "_model_module_version": "1.2.0",
            "_view_count": null,
            "flex_flow": null,
            "width": null,
            "min_width": null,
            "border": null,
            "align_items": null,
            "bottom": null,
            "_model_module": "@jupyter-widgets/base",
            "top": null,
            "grid_column": null,
            "overflow_y": null,
            "overflow_x": null,
            "grid_auto_flow": null,
            "grid_area": null,
            "grid_template_columns": null,
            "flex": null,
            "_model_name": "LayoutModel",
            "justify_items": null,
            "grid_row": null,
            "max_height": null,
            "align_content": null,
            "visibility": null,
            "align_self": null,
            "height": null,
            "min_height": null,
            "padding": null,
            "grid_auto_rows": null,
            "grid_gap": null,
            "max_width": null,
            "order": null,
            "_view_module_version": "1.2.0",
            "grid_template_areas": null,
            "object_position": null,
            "object_fit": null,
            "grid_auto_columns": null,
            "margin": null,
            "display": null,
            "left": null
          }
        },
        "24005bca087c4cbda5d021aa844235ed": {
          "model_module": "@jupyter-widgets/controls",
          "model_name": "DescriptionStyleModel",
          "state": {
            "_view_name": "StyleView",
            "_model_name": "DescriptionStyleModel",
            "description_width": "",
            "_view_module": "@jupyter-widgets/base",
            "_model_module_version": "1.5.0",
            "_view_count": null,
            "_view_module_version": "1.2.0",
            "_model_module": "@jupyter-widgets/controls"
          }
        },
        "1503a0273f9e45159ef7aeeda0ef7dd8": {
          "model_module": "@jupyter-widgets/base",
          "model_name": "LayoutModel",
          "state": {
            "_view_name": "LayoutView",
            "grid_template_rows": null,
            "right": null,
            "justify_content": null,
            "_view_module": "@jupyter-widgets/base",
            "overflow": null,
            "_model_module_version": "1.2.0",
            "_view_count": null,
            "flex_flow": null,
            "width": null,
            "min_width": null,
            "border": null,
            "align_items": null,
            "bottom": null,
            "_model_module": "@jupyter-widgets/base",
            "top": null,
            "grid_column": null,
            "overflow_y": null,
            "overflow_x": null,
            "grid_auto_flow": null,
            "grid_area": null,
            "grid_template_columns": null,
            "flex": null,
            "_model_name": "LayoutModel",
            "justify_items": null,
            "grid_row": null,
            "max_height": null,
            "align_content": null,
            "visibility": null,
            "align_self": null,
            "height": null,
            "min_height": null,
            "padding": null,
            "grid_auto_rows": null,
            "grid_gap": null,
            "max_width": null,
            "order": null,
            "_view_module_version": "1.2.0",
            "grid_template_areas": null,
            "object_position": null,
            "object_fit": null,
            "grid_auto_columns": null,
            "margin": null,
            "display": null,
            "left": null
          }
        },
        "c45632683b704c4ab8dd3a868c33d8cb": {
          "model_module": "@jupyter-widgets/controls",
          "model_name": "HBoxModel",
          "state": {
            "_view_name": "HBoxView",
            "_dom_classes": [],
            "_model_name": "HBoxModel",
            "_view_module": "@jupyter-widgets/controls",
            "_model_module_version": "1.5.0",
            "_view_count": null,
            "_view_module_version": "1.5.0",
            "box_style": "",
            "layout": "IPY_MODEL_4dcdc8ea01744ff68e98d7d6b4ec859f",
            "_model_module": "@jupyter-widgets/controls",
            "children": [
              "IPY_MODEL_101a9a04b0ee47eab82712683a891638",
              "IPY_MODEL_1cde567dfc8c44afa1ca9311905a47ae"
            ]
          }
        },
        "4dcdc8ea01744ff68e98d7d6b4ec859f": {
          "model_module": "@jupyter-widgets/base",
          "model_name": "LayoutModel",
          "state": {
            "_view_name": "LayoutView",
            "grid_template_rows": null,
            "right": null,
            "justify_content": null,
            "_view_module": "@jupyter-widgets/base",
            "overflow": null,
            "_model_module_version": "1.2.0",
            "_view_count": null,
            "flex_flow": null,
            "width": null,
            "min_width": null,
            "border": null,
            "align_items": null,
            "bottom": null,
            "_model_module": "@jupyter-widgets/base",
            "top": null,
            "grid_column": null,
            "overflow_y": null,
            "overflow_x": null,
            "grid_auto_flow": null,
            "grid_area": null,
            "grid_template_columns": null,
            "flex": null,
            "_model_name": "LayoutModel",
            "justify_items": null,
            "grid_row": null,
            "max_height": null,
            "align_content": null,
            "visibility": null,
            "align_self": null,
            "height": null,
            "min_height": null,
            "padding": null,
            "grid_auto_rows": null,
            "grid_gap": null,
            "max_width": null,
            "order": null,
            "_view_module_version": "1.2.0",
            "grid_template_areas": null,
            "object_position": null,
            "object_fit": null,
            "grid_auto_columns": null,
            "margin": null,
            "display": null,
            "left": null
          }
        },
        "101a9a04b0ee47eab82712683a891638": {
          "model_module": "@jupyter-widgets/controls",
          "model_name": "FloatProgressModel",
          "state": {
            "_view_name": "ProgressView",
            "style": "IPY_MODEL_94436705df7d4b878766ee9f6224281c",
            "_dom_classes": [],
            "description": "",
            "_model_name": "FloatProgressModel",
            "bar_style": "success",
            "max": 1,
            "_view_module": "@jupyter-widgets/controls",
            "_model_module_version": "1.5.0",
            "value": 1,
            "_view_count": null,
            "_view_module_version": "1.5.0",
            "orientation": "horizontal",
            "min": 0,
            "description_tooltip": null,
            "_model_module": "@jupyter-widgets/controls",
            "layout": "IPY_MODEL_f90bbad13e62432d87409884f37519e4"
          }
        },
        "1cde567dfc8c44afa1ca9311905a47ae": {
          "model_module": "@jupyter-widgets/controls",
          "model_name": "HTMLModel",
          "state": {
            "_view_name": "HTMLView",
            "style": "IPY_MODEL_351f0706aa6b492e82d5616495e0420e",
            "_dom_classes": [],
            "description": "",
            "_model_name": "HTMLModel",
            "placeholder": "​",
            "_view_module": "@jupyter-widgets/controls",
            "_model_module_version": "1.5.0",
            "value": " 32768/? [00:01&lt;00:00, 27772.34it/s]",
            "_view_count": null,
            "_view_module_version": "1.5.0",
            "description_tooltip": null,
            "_model_module": "@jupyter-widgets/controls",
            "layout": "IPY_MODEL_2f40c145773c44b58332a009507531b8"
          }
        },
        "94436705df7d4b878766ee9f6224281c": {
          "model_module": "@jupyter-widgets/controls",
          "model_name": "ProgressStyleModel",
          "state": {
            "_view_name": "StyleView",
            "_model_name": "ProgressStyleModel",
            "description_width": "initial",
            "_view_module": "@jupyter-widgets/base",
            "_model_module_version": "1.5.0",
            "_view_count": null,
            "_view_module_version": "1.2.0",
            "bar_color": null,
            "_model_module": "@jupyter-widgets/controls"
          }
        },
        "f90bbad13e62432d87409884f37519e4": {
          "model_module": "@jupyter-widgets/base",
          "model_name": "LayoutModel",
          "state": {
            "_view_name": "LayoutView",
            "grid_template_rows": null,
            "right": null,
            "justify_content": null,
            "_view_module": "@jupyter-widgets/base",
            "overflow": null,
            "_model_module_version": "1.2.0",
            "_view_count": null,
            "flex_flow": null,
            "width": null,
            "min_width": null,
            "border": null,
            "align_items": null,
            "bottom": null,
            "_model_module": "@jupyter-widgets/base",
            "top": null,
            "grid_column": null,
            "overflow_y": null,
            "overflow_x": null,
            "grid_auto_flow": null,
            "grid_area": null,
            "grid_template_columns": null,
            "flex": null,
            "_model_name": "LayoutModel",
            "justify_items": null,
            "grid_row": null,
            "max_height": null,
            "align_content": null,
            "visibility": null,
            "align_self": null,
            "height": null,
            "min_height": null,
            "padding": null,
            "grid_auto_rows": null,
            "grid_gap": null,
            "max_width": null,
            "order": null,
            "_view_module_version": "1.2.0",
            "grid_template_areas": null,
            "object_position": null,
            "object_fit": null,
            "grid_auto_columns": null,
            "margin": null,
            "display": null,
            "left": null
          }
        },
        "351f0706aa6b492e82d5616495e0420e": {
          "model_module": "@jupyter-widgets/controls",
          "model_name": "DescriptionStyleModel",
          "state": {
            "_view_name": "StyleView",
            "_model_name": "DescriptionStyleModel",
            "description_width": "",
            "_view_module": "@jupyter-widgets/base",
            "_model_module_version": "1.5.0",
            "_view_count": null,
            "_view_module_version": "1.2.0",
            "_model_module": "@jupyter-widgets/controls"
          }
        },
        "2f40c145773c44b58332a009507531b8": {
          "model_module": "@jupyter-widgets/base",
          "model_name": "LayoutModel",
          "state": {
            "_view_name": "LayoutView",
            "grid_template_rows": null,
            "right": null,
            "justify_content": null,
            "_view_module": "@jupyter-widgets/base",
            "overflow": null,
            "_model_module_version": "1.2.0",
            "_view_count": null,
            "flex_flow": null,
            "width": null,
            "min_width": null,
            "border": null,
            "align_items": null,
            "bottom": null,
            "_model_module": "@jupyter-widgets/base",
            "top": null,
            "grid_column": null,
            "overflow_y": null,
            "overflow_x": null,
            "grid_auto_flow": null,
            "grid_area": null,
            "grid_template_columns": null,
            "flex": null,
            "_model_name": "LayoutModel",
            "justify_items": null,
            "grid_row": null,
            "max_height": null,
            "align_content": null,
            "visibility": null,
            "align_self": null,
            "height": null,
            "min_height": null,
            "padding": null,
            "grid_auto_rows": null,
            "grid_gap": null,
            "max_width": null,
            "order": null,
            "_view_module_version": "1.2.0",
            "grid_template_areas": null,
            "object_position": null,
            "object_fit": null,
            "grid_auto_columns": null,
            "margin": null,
            "display": null,
            "left": null
          }
        },
        "1b23b8be539044a0a160f174fd47485c": {
          "model_module": "@jupyter-widgets/controls",
          "model_name": "HBoxModel",
          "state": {
            "_view_name": "HBoxView",
            "_dom_classes": [],
            "_model_name": "HBoxModel",
            "_view_module": "@jupyter-widgets/controls",
            "_model_module_version": "1.5.0",
            "_view_count": null,
            "_view_module_version": "1.5.0",
            "box_style": "",
            "layout": "IPY_MODEL_608be24e41d84e3a9299fe02d1033955",
            "_model_module": "@jupyter-widgets/controls",
            "children": [
              "IPY_MODEL_8b4a9e9ff9394187a05686c6733dec3d",
              "IPY_MODEL_786ad78e7cae4684b702a0d6ad7b9859"
            ]
          }
        },
        "608be24e41d84e3a9299fe02d1033955": {
          "model_module": "@jupyter-widgets/base",
          "model_name": "LayoutModel",
          "state": {
            "_view_name": "LayoutView",
            "grid_template_rows": null,
            "right": null,
            "justify_content": null,
            "_view_module": "@jupyter-widgets/base",
            "overflow": null,
            "_model_module_version": "1.2.0",
            "_view_count": null,
            "flex_flow": null,
            "width": null,
            "min_width": null,
            "border": null,
            "align_items": null,
            "bottom": null,
            "_model_module": "@jupyter-widgets/base",
            "top": null,
            "grid_column": null,
            "overflow_y": null,
            "overflow_x": null,
            "grid_auto_flow": null,
            "grid_area": null,
            "grid_template_columns": null,
            "flex": null,
            "_model_name": "LayoutModel",
            "justify_items": null,
            "grid_row": null,
            "max_height": null,
            "align_content": null,
            "visibility": null,
            "align_self": null,
            "height": null,
            "min_height": null,
            "padding": null,
            "grid_auto_rows": null,
            "grid_gap": null,
            "max_width": null,
            "order": null,
            "_view_module_version": "1.2.0",
            "grid_template_areas": null,
            "object_position": null,
            "object_fit": null,
            "grid_auto_columns": null,
            "margin": null,
            "display": null,
            "left": null
          }
        },
        "8b4a9e9ff9394187a05686c6733dec3d": {
          "model_module": "@jupyter-widgets/controls",
          "model_name": "FloatProgressModel",
          "state": {
            "_view_name": "ProgressView",
            "style": "IPY_MODEL_8c27e0eea7cf4037aa256fc362aec0f9",
            "_dom_classes": [],
            "description": "",
            "_model_name": "FloatProgressModel",
            "bar_style": "success",
            "max": 1,
            "_view_module": "@jupyter-widgets/controls",
            "_model_module_version": "1.5.0",
            "value": 1,
            "_view_count": null,
            "_view_module_version": "1.5.0",
            "orientation": "horizontal",
            "min": 0,
            "description_tooltip": null,
            "_model_module": "@jupyter-widgets/controls",
            "layout": "IPY_MODEL_afa1ee8618e142b89806cf10a6db6009"
          }
        },
        "786ad78e7cae4684b702a0d6ad7b9859": {
          "model_module": "@jupyter-widgets/controls",
          "model_name": "HTMLModel",
          "state": {
            "_view_name": "HTMLView",
            "style": "IPY_MODEL_b1ca15486d064d03be9072fbf7b8f1ac",
            "_dom_classes": [],
            "description": "",
            "_model_name": "HTMLModel",
            "placeholder": "​",
            "_view_module": "@jupyter-widgets/controls",
            "_model_module_version": "1.5.0",
            "value": " 1654784/? [00:00&lt;00:00, 1959739.18it/s]",
            "_view_count": null,
            "_view_module_version": "1.5.0",
            "description_tooltip": null,
            "_model_module": "@jupyter-widgets/controls",
            "layout": "IPY_MODEL_3bf1a9baeaf04ea2a48262cf02811e61"
          }
        },
        "8c27e0eea7cf4037aa256fc362aec0f9": {
          "model_module": "@jupyter-widgets/controls",
          "model_name": "ProgressStyleModel",
          "state": {
            "_view_name": "StyleView",
            "_model_name": "ProgressStyleModel",
            "description_width": "initial",
            "_view_module": "@jupyter-widgets/base",
            "_model_module_version": "1.5.0",
            "_view_count": null,
            "_view_module_version": "1.2.0",
            "bar_color": null,
            "_model_module": "@jupyter-widgets/controls"
          }
        },
        "afa1ee8618e142b89806cf10a6db6009": {
          "model_module": "@jupyter-widgets/base",
          "model_name": "LayoutModel",
          "state": {
            "_view_name": "LayoutView",
            "grid_template_rows": null,
            "right": null,
            "justify_content": null,
            "_view_module": "@jupyter-widgets/base",
            "overflow": null,
            "_model_module_version": "1.2.0",
            "_view_count": null,
            "flex_flow": null,
            "width": null,
            "min_width": null,
            "border": null,
            "align_items": null,
            "bottom": null,
            "_model_module": "@jupyter-widgets/base",
            "top": null,
            "grid_column": null,
            "overflow_y": null,
            "overflow_x": null,
            "grid_auto_flow": null,
            "grid_area": null,
            "grid_template_columns": null,
            "flex": null,
            "_model_name": "LayoutModel",
            "justify_items": null,
            "grid_row": null,
            "max_height": null,
            "align_content": null,
            "visibility": null,
            "align_self": null,
            "height": null,
            "min_height": null,
            "padding": null,
            "grid_auto_rows": null,
            "grid_gap": null,
            "max_width": null,
            "order": null,
            "_view_module_version": "1.2.0",
            "grid_template_areas": null,
            "object_position": null,
            "object_fit": null,
            "grid_auto_columns": null,
            "margin": null,
            "display": null,
            "left": null
          }
        },
        "b1ca15486d064d03be9072fbf7b8f1ac": {
          "model_module": "@jupyter-widgets/controls",
          "model_name": "DescriptionStyleModel",
          "state": {
            "_view_name": "StyleView",
            "_model_name": "DescriptionStyleModel",
            "description_width": "",
            "_view_module": "@jupyter-widgets/base",
            "_model_module_version": "1.5.0",
            "_view_count": null,
            "_view_module_version": "1.2.0",
            "_model_module": "@jupyter-widgets/controls"
          }
        },
        "3bf1a9baeaf04ea2a48262cf02811e61": {
          "model_module": "@jupyter-widgets/base",
          "model_name": "LayoutModel",
          "state": {
            "_view_name": "LayoutView",
            "grid_template_rows": null,
            "right": null,
            "justify_content": null,
            "_view_module": "@jupyter-widgets/base",
            "overflow": null,
            "_model_module_version": "1.2.0",
            "_view_count": null,
            "flex_flow": null,
            "width": null,
            "min_width": null,
            "border": null,
            "align_items": null,
            "bottom": null,
            "_model_module": "@jupyter-widgets/base",
            "top": null,
            "grid_column": null,
            "overflow_y": null,
            "overflow_x": null,
            "grid_auto_flow": null,
            "grid_area": null,
            "grid_template_columns": null,
            "flex": null,
            "_model_name": "LayoutModel",
            "justify_items": null,
            "grid_row": null,
            "max_height": null,
            "align_content": null,
            "visibility": null,
            "align_self": null,
            "height": null,
            "min_height": null,
            "padding": null,
            "grid_auto_rows": null,
            "grid_gap": null,
            "max_width": null,
            "order": null,
            "_view_module_version": "1.2.0",
            "grid_template_areas": null,
            "object_position": null,
            "object_fit": null,
            "grid_auto_columns": null,
            "margin": null,
            "display": null,
            "left": null
          }
        },
        "f85434c5c9104d99bb5adbbf9a0298c9": {
          "model_module": "@jupyter-widgets/controls",
          "model_name": "HBoxModel",
          "state": {
            "_view_name": "HBoxView",
            "_dom_classes": [],
            "_model_name": "HBoxModel",
            "_view_module": "@jupyter-widgets/controls",
            "_model_module_version": "1.5.0",
            "_view_count": null,
            "_view_module_version": "1.5.0",
            "box_style": "",
            "layout": "IPY_MODEL_4c86fc6af22846dd8888867e0d9bd0f7",
            "_model_module": "@jupyter-widgets/controls",
            "children": [
              "IPY_MODEL_9facd721409f4c1c8781cfebfd6b2cb3",
              "IPY_MODEL_184a19a56d924c5398b1640b307c702c"
            ]
          }
        },
        "4c86fc6af22846dd8888867e0d9bd0f7": {
          "model_module": "@jupyter-widgets/base",
          "model_name": "LayoutModel",
          "state": {
            "_view_name": "LayoutView",
            "grid_template_rows": null,
            "right": null,
            "justify_content": null,
            "_view_module": "@jupyter-widgets/base",
            "overflow": null,
            "_model_module_version": "1.2.0",
            "_view_count": null,
            "flex_flow": null,
            "width": null,
            "min_width": null,
            "border": null,
            "align_items": null,
            "bottom": null,
            "_model_module": "@jupyter-widgets/base",
            "top": null,
            "grid_column": null,
            "overflow_y": null,
            "overflow_x": null,
            "grid_auto_flow": null,
            "grid_area": null,
            "grid_template_columns": null,
            "flex": null,
            "_model_name": "LayoutModel",
            "justify_items": null,
            "grid_row": null,
            "max_height": null,
            "align_content": null,
            "visibility": null,
            "align_self": null,
            "height": null,
            "min_height": null,
            "padding": null,
            "grid_auto_rows": null,
            "grid_gap": null,
            "max_width": null,
            "order": null,
            "_view_module_version": "1.2.0",
            "grid_template_areas": null,
            "object_position": null,
            "object_fit": null,
            "grid_auto_columns": null,
            "margin": null,
            "display": null,
            "left": null
          }
        },
        "9facd721409f4c1c8781cfebfd6b2cb3": {
          "model_module": "@jupyter-widgets/controls",
          "model_name": "FloatProgressModel",
          "state": {
            "_view_name": "ProgressView",
            "style": "IPY_MODEL_f7d08a88858d49519e4c9a1aad8918b0",
            "_dom_classes": [],
            "description": "  0%",
            "_model_name": "FloatProgressModel",
            "bar_style": "info",
            "max": 1,
            "_view_module": "@jupyter-widgets/controls",
            "_model_module_version": "1.5.0",
            "value": 0,
            "_view_count": null,
            "_view_module_version": "1.5.0",
            "orientation": "horizontal",
            "min": 0,
            "description_tooltip": null,
            "_model_module": "@jupyter-widgets/controls",
            "layout": "IPY_MODEL_c2307d6d0ba84feaaa9dc683d8687a8a"
          }
        },
        "184a19a56d924c5398b1640b307c702c": {
          "model_module": "@jupyter-widgets/controls",
          "model_name": "HTMLModel",
          "state": {
            "_view_name": "HTMLView",
            "style": "IPY_MODEL_0d33c6078c2448a1b032b073de4b9d87",
            "_dom_classes": [],
            "description": "",
            "_model_name": "HTMLModel",
            "placeholder": "​",
            "_view_module": "@jupyter-widgets/controls",
            "_model_module_version": "1.5.0",
            "value": " 0/4542 [00:00&lt;?, ?it/s]",
            "_view_count": null,
            "_view_module_version": "1.5.0",
            "description_tooltip": null,
            "_model_module": "@jupyter-widgets/controls",
            "layout": "IPY_MODEL_dfd36cc047f04158842199755176acc9"
          }
        },
        "f7d08a88858d49519e4c9a1aad8918b0": {
          "model_module": "@jupyter-widgets/controls",
          "model_name": "ProgressStyleModel",
          "state": {
            "_view_name": "StyleView",
            "_model_name": "ProgressStyleModel",
            "description_width": "initial",
            "_view_module": "@jupyter-widgets/base",
            "_model_module_version": "1.5.0",
            "_view_count": null,
            "_view_module_version": "1.2.0",
            "bar_color": null,
            "_model_module": "@jupyter-widgets/controls"
          }
        },
        "c2307d6d0ba84feaaa9dc683d8687a8a": {
          "model_module": "@jupyter-widgets/base",
          "model_name": "LayoutModel",
          "state": {
            "_view_name": "LayoutView",
            "grid_template_rows": null,
            "right": null,
            "justify_content": null,
            "_view_module": "@jupyter-widgets/base",
            "overflow": null,
            "_model_module_version": "1.2.0",
            "_view_count": null,
            "flex_flow": null,
            "width": null,
            "min_width": null,
            "border": null,
            "align_items": null,
            "bottom": null,
            "_model_module": "@jupyter-widgets/base",
            "top": null,
            "grid_column": null,
            "overflow_y": null,
            "overflow_x": null,
            "grid_auto_flow": null,
            "grid_area": null,
            "grid_template_columns": null,
            "flex": null,
            "_model_name": "LayoutModel",
            "justify_items": null,
            "grid_row": null,
            "max_height": null,
            "align_content": null,
            "visibility": null,
            "align_self": null,
            "height": null,
            "min_height": null,
            "padding": null,
            "grid_auto_rows": null,
            "grid_gap": null,
            "max_width": null,
            "order": null,
            "_view_module_version": "1.2.0",
            "grid_template_areas": null,
            "object_position": null,
            "object_fit": null,
            "grid_auto_columns": null,
            "margin": null,
            "display": null,
            "left": null
          }
        },
        "0d33c6078c2448a1b032b073de4b9d87": {
          "model_module": "@jupyter-widgets/controls",
          "model_name": "DescriptionStyleModel",
          "state": {
            "_view_name": "StyleView",
            "_model_name": "DescriptionStyleModel",
            "description_width": "",
            "_view_module": "@jupyter-widgets/base",
            "_model_module_version": "1.5.0",
            "_view_count": null,
            "_view_module_version": "1.2.0",
            "_model_module": "@jupyter-widgets/controls"
          }
        },
        "dfd36cc047f04158842199755176acc9": {
          "model_module": "@jupyter-widgets/base",
          "model_name": "LayoutModel",
          "state": {
            "_view_name": "LayoutView",
            "grid_template_rows": null,
            "right": null,
            "justify_content": null,
            "_view_module": "@jupyter-widgets/base",
            "overflow": null,
            "_model_module_version": "1.2.0",
            "_view_count": null,
            "flex_flow": null,
            "width": null,
            "min_width": null,
            "border": null,
            "align_items": null,
            "bottom": null,
            "_model_module": "@jupyter-widgets/base",
            "top": null,
            "grid_column": null,
            "overflow_y": null,
            "overflow_x": null,
            "grid_auto_flow": null,
            "grid_area": null,
            "grid_template_columns": null,
            "flex": null,
            "_model_name": "LayoutModel",
            "justify_items": null,
            "grid_row": null,
            "max_height": null,
            "align_content": null,
            "visibility": null,
            "align_self": null,
            "height": null,
            "min_height": null,
            "padding": null,
            "grid_auto_rows": null,
            "grid_gap": null,
            "max_width": null,
            "order": null,
            "_view_module_version": "1.2.0",
            "grid_template_areas": null,
            "object_position": null,
            "object_fit": null,
            "grid_auto_columns": null,
            "margin": null,
            "display": null,
            "left": null
          }
        }
      }
    },
    "accelerator": "GPU"
  },
  "cells": [
    {
      "cell_type": "code",
      "metadata": {
        "id": "SayAsM7V7O4s"
      },
      "source": [
        "#downloading another version of torchvision to solve the downlodin issue of MNIST dataset\r\n",
        "#!pip3 install torch==1.7.1+cu101 torchvision==0.8.2+cu101 -f https://download.pytorch.org/whl/torch_stable.html"
      ],
      "execution_count": null,
      "outputs": []
    },
    {
      "cell_type": "code",
      "metadata": {
        "id": "V7K5CHfZ2uD_"
      },
      "source": [
        "#1- Import necessary packages\r\n",
        "\r\n",
        "%matplotlib inline\r\n",
        "%config InlineBackend.figure_format = 'retina'\r\n",
        "\r\n",
        "## for printing image\r\n",
        "import numpy as np \r\n",
        "import matplotlib.pyplot as plt\r\n",
        "\r\n",
        "import torch\r\n",
        "#import torch.nn as nn\r\n",
        "#import torch.nn.functional as F\r\n",
        "import torchvision\r\n",
        "#import torchvision.transforms as transforms"
      ],
      "execution_count": null,
      "outputs": []
    },
    {
      "cell_type": "code",
      "metadata": {
        "colab": {
          "base_uri": "https://localhost:8080/"
        },
        "id": "aCk_wxByJzef",
        "outputId": "7c084868-a5eb-441f-9528-abfd1bd82930"
      },
      "source": [
        "print(torch.__version__)"
      ],
      "execution_count": null,
      "outputs": [
        {
          "output_type": "stream",
          "text": [
            "1.7.1+cu101\n"
          ],
          "name": "stdout"
        }
      ]
    },
    {
      "cell_type": "code",
      "metadata": {
        "id": "9Dy2hGIEDxIt"
      },
      "source": [
        "#2- solve the issue of downloading MNIST dataset\r\n",
        "from six.moves import urllib\r\n",
        "opener = urllib.request.build_opener()\r\n",
        "opener.addheaders = [('User-agent', 'Mozilla/5.0')]\r\n",
        "urllib.request.install_opener(opener)"
      ],
      "execution_count": null,
      "outputs": []
    },
    {
      "cell_type": "code",
      "metadata": {
        "colab": {
          "base_uri": "https://localhost:8080/",
          "height": 403,
          "referenced_widgets": [
            "aecfa74863e84ce5ac23bd5de2cb2f26",
            "b6e404a793e049168758bb7dd3827026",
            "9ffcc47c90a44e89a7777bdba2a6970b",
            "cb44cdafc9dd4530979c10e6d23d0889",
            "799f2a481f864749af1833b394de2ae1",
            "4c8b57359cc546c8b694ba15d7304b80",
            "24005bca087c4cbda5d021aa844235ed",
            "1503a0273f9e45159ef7aeeda0ef7dd8",
            "c45632683b704c4ab8dd3a868c33d8cb",
            "4dcdc8ea01744ff68e98d7d6b4ec859f",
            "101a9a04b0ee47eab82712683a891638",
            "1cde567dfc8c44afa1ca9311905a47ae",
            "94436705df7d4b878766ee9f6224281c",
            "f90bbad13e62432d87409884f37519e4",
            "351f0706aa6b492e82d5616495e0420e",
            "2f40c145773c44b58332a009507531b8",
            "1b23b8be539044a0a160f174fd47485c",
            "608be24e41d84e3a9299fe02d1033955",
            "8b4a9e9ff9394187a05686c6733dec3d",
            "786ad78e7cae4684b702a0d6ad7b9859",
            "8c27e0eea7cf4037aa256fc362aec0f9",
            "afa1ee8618e142b89806cf10a6db6009",
            "b1ca15486d064d03be9072fbf7b8f1ac",
            "3bf1a9baeaf04ea2a48262cf02811e61",
            "f85434c5c9104d99bb5adbbf9a0298c9",
            "4c86fc6af22846dd8888867e0d9bd0f7",
            "9facd721409f4c1c8781cfebfd6b2cb3",
            "184a19a56d924c5398b1640b307c702c",
            "f7d08a88858d49519e4c9a1aad8918b0",
            "c2307d6d0ba84feaaa9dc683d8687a8a",
            "0d33c6078c2448a1b032b073de4b9d87",
            "dfd36cc047f04158842199755176acc9"
          ]
        },
        "id": "rVexHRX6UBOS",
        "outputId": "026d6ee7-00ff-4c35-eae2-19154fe9e42f"
      },
      "source": [
        "###3- Run this cell\r\n",
        "\r\n",
        "from torchvision import datasets, transforms\r\n",
        "\r\n",
        "# Define a transform to normalize the data\r\n",
        "transform = transforms.Compose([transforms.ToTensor(),\r\n",
        "                              transforms.Normalize((0.5,), (0.5,)),\r\n",
        "                              ])\r\n",
        "# Download and load the training data\r\n",
        "trainset = torchvision.datasets.MNIST(root='./MNIST_data' , download=True, train=True, transform=transform)\r\n",
        "\r\n",
        "trainloader = torch.utils.data.DataLoader(trainset, batch_size=64, shuffle=True)"
      ],
      "execution_count": null,
      "outputs": [
        {
          "output_type": "stream",
          "text": [
            "Downloading http://yann.lecun.com/exdb/mnist/train-images-idx3-ubyte.gz to ./MNIST_data/MNIST/raw/train-images-idx3-ubyte.gz\n"
          ],
          "name": "stdout"
        },
        {
          "output_type": "display_data",
          "data": {
            "application/vnd.jupyter.widget-view+json": {
              "model_id": "aecfa74863e84ce5ac23bd5de2cb2f26",
              "version_minor": 0,
              "version_major": 2
            },
            "text/plain": [
              "HBox(children=(FloatProgress(value=1.0, bar_style='info', max=1.0), HTML(value='')))"
            ]
          },
          "metadata": {
            "tags": []
          }
        },
        {
          "output_type": "stream",
          "text": [
            "Extracting ./MNIST_data/MNIST/raw/train-images-idx3-ubyte.gz to ./MNIST_data/MNIST/raw\n",
            "Downloading http://yann.lecun.com/exdb/mnist/train-labels-idx1-ubyte.gz to ./MNIST_data/MNIST/raw/train-labels-idx1-ubyte.gz\n"
          ],
          "name": "stdout"
        },
        {
          "output_type": "display_data",
          "data": {
            "application/vnd.jupyter.widget-view+json": {
              "model_id": "c45632683b704c4ab8dd3a868c33d8cb",
              "version_minor": 0,
              "version_major": 2
            },
            "text/plain": [
              "HBox(children=(FloatProgress(value=1.0, bar_style='info', max=1.0), HTML(value='')))"
            ]
          },
          "metadata": {
            "tags": []
          }
        },
        {
          "output_type": "stream",
          "text": [
            "Extracting ./MNIST_data/MNIST/raw/train-labels-idx1-ubyte.gz to ./MNIST_data/MNIST/raw\n",
            "Downloading http://yann.lecun.com/exdb/mnist/t10k-images-idx3-ubyte.gz to ./MNIST_data/MNIST/raw/t10k-images-idx3-ubyte.gz\n"
          ],
          "name": "stdout"
        },
        {
          "output_type": "display_data",
          "data": {
            "application/vnd.jupyter.widget-view+json": {
              "model_id": "1b23b8be539044a0a160f174fd47485c",
              "version_minor": 0,
              "version_major": 2
            },
            "text/plain": [
              "HBox(children=(FloatProgress(value=1.0, bar_style='info', max=1.0), HTML(value='')))"
            ]
          },
          "metadata": {
            "tags": []
          }
        },
        {
          "output_type": "stream",
          "text": [
            "Extracting ./MNIST_data/MNIST/raw/t10k-images-idx3-ubyte.gz to ./MNIST_data/MNIST/raw\n",
            "Downloading http://yann.lecun.com/exdb/mnist/t10k-labels-idx1-ubyte.gz to ./MNIST_data/MNIST/raw/t10k-labels-idx1-ubyte.gz\n",
            "\n",
            "\n"
          ],
          "name": "stdout"
        },
        {
          "output_type": "display_data",
          "data": {
            "application/vnd.jupyter.widget-view+json": {
              "model_id": "f85434c5c9104d99bb5adbbf9a0298c9",
              "version_minor": 0,
              "version_major": 2
            },
            "text/plain": [
              "HBox(children=(FloatProgress(value=1.0, bar_style='info', max=1.0), HTML(value='')))"
            ]
          },
          "metadata": {
            "tags": []
          }
        },
        {
          "output_type": "stream",
          "text": [
            "Extracting ./MNIST_data/MNIST/raw/t10k-labels-idx1-ubyte.gz to ./MNIST_data/MNIST/raw\n",
            "Processing...\n",
            "Done!\n"
          ],
          "name": "stdout"
        },
        {
          "output_type": "stream",
          "text": [
            "/usr/local/lib/python3.7/dist-packages/torchvision/datasets/mnist.py:480: UserWarning: The given NumPy array is not writeable, and PyTorch does not support non-writeable tensors. This means you can write to the underlying (supposedly non-writeable) NumPy array using the tensor. You may want to copy the array to protect its data or make it writeable before converting it to a tensor. This type of warning will be suppressed for the rest of this program. (Triggered internally at  /pytorch/torch/csrc/utils/tensor_numpy.cpp:141.)\n",
            "  return torch.from_numpy(parsed.astype(m[2], copy=False)).view(*s)\n"
          ],
          "name": "stderr"
        }
      ]
    },
    {
      "cell_type": "code",
      "metadata": {
        "id": "xYJmIXITVPO2",
        "colab": {
          "base_uri": "https://localhost:8080/"
        },
        "outputId": "cf376b0a-e0e4-402e-db6a-61bb46790bf4"
      },
      "source": [
        "#4-\r\n",
        "dataiter = iter(trainloader)\r\n",
        "images, labels = dataiter.next()\r\n",
        "print(type(images))\r\n",
        "print(images.shape)\r\n",
        "print(labels.shape)"
      ],
      "execution_count": null,
      "outputs": [
        {
          "output_type": "stream",
          "text": [
            "<class 'torch.Tensor'>\n",
            "torch.Size([64, 1, 28, 28])\n",
            "torch.Size([64])\n"
          ],
          "name": "stdout"
        }
      ]
    },
    {
      "cell_type": "code",
      "metadata": {
        "colab": {
          "base_uri": "https://localhost:8080/",
          "height": 265
        },
        "id": "7L1RKsEIEkKE",
        "outputId": "85e13674-ad2e-4cf2-b1b5-28654b1a64fa"
      },
      "source": [
        "#5-\r\n",
        "plt.imshow(images[1].numpy().squeeze(), cmap='Greys_r');"
      ],
      "execution_count": null,
      "outputs": [
        {
          "output_type": "display_data",
          "data": {
            "image/png": "[encoded data removed]",
            "text/plain": [
              "<Figure size 432x288 with 1 Axes>"
            ]
          },
          "metadata": {
            "tags": [],
            "image/png": {
              "width": 251,
              "height": 248
            },
            "needs_background": "light"
          }
        }
      ]
    },
    {
      "cell_type": "code",
      "metadata": {
        "id": "4IvKjSc0ErzJ"
      },
      "source": [
        "##6- Solution\r\n",
        "def activation(x):\r\n",
        "    return 1/(1+torch.exp(-x))\r\n",
        "\r\n",
        "# Flatten the input images\r\n",
        "inputs = images.view(images.shape[0], -1)\r\n",
        "\r\n",
        "# Create parameters\r\n",
        "w1 = torch.randn(784, 256)\r\n",
        "b1 = torch.randn(256)\r\n",
        "\r\n",
        "w2 = torch.randn(256, 10)\r\n",
        "b2 = torch.randn(10)\r\n",
        "\r\n",
        "h = activation(torch.mm(inputs, w1) + b1)\r\n",
        "\r\n",
        "out = torch.mm(h, w2) + b2\r\n"
      ],
      "execution_count": null,
      "outputs": []
    },
    {
      "cell_type": "code",
      "metadata": {
        "colab": {
          "base_uri": "https://localhost:8080/"
        },
        "id": "Nd1D0YYzE0qj",
        "outputId": "a2b820de-621d-4620-a741-901fad768d1b"
      },
      "source": [
        "out"
      ],
      "execution_count": null,
      "outputs": [
        {
          "output_type": "execute_result",
          "data": {
            "text/plain": [
              "tensor([[-14.5053,   1.7815,   4.1756,   5.0516,  -4.5979, -10.4667,   5.3947,\n",
              "          24.4726,  -2.1013,   8.3994],\n",
              "        [ -7.1076,  -3.2012,   8.2461,  -8.5218,  -9.0357, -10.8850,   8.0992,\n",
              "          16.2017, -11.0669,  16.7831],\n",
              "        [-10.1996,  -0.3964,   7.7407,  -0.3989,  -4.3112, -12.8213,  -0.6986,\n",
              "          14.1756,  -4.5548,  14.2176],\n",
              "        [-13.2770,  -2.1537,   8.1834,   1.3374,  -3.4904,  -0.5610,   7.6746,\n",
              "          16.9217,  -2.1005,   9.2865],\n",
              "        [-24.0285,   5.7480,   9.9838,  -5.5383, -13.7908,  -7.7658,   1.3767,\n",
              "          18.4990,  -5.8832,  16.8263],\n",
              "        [ -7.0226,  -2.3330,   5.0232,  -2.4656,  -4.4506,  -2.8051,   6.5373,\n",
              "          22.6582, -10.1144,  16.6976],\n",
              "        [-20.2951,  -6.3056,  -1.1166,  -1.5405, -16.5753, -10.8763,   1.3279,\n",
              "          27.1145,  -8.4058,   9.5541],\n",
              "        [ -7.7821,   1.6423,   8.7157,   3.6326, -13.0509, -14.8866,   6.0061,\n",
              "           7.2148,  -4.9990,   8.0123],\n",
              "        [-19.5022,  -0.6977,   8.1212,  -3.3143,  -0.7584,  -5.4231,  -1.6519,\n",
              "          23.8077, -13.4401,   7.5170],\n",
              "        [  0.2093,  -0.3829,   8.3843,   5.8676,  -5.2591,   0.1583,   2.1702,\n",
              "          18.3007,  -3.0163,  12.6185],\n",
              "        [ -4.2848,  -4.4768,   2.2549,  -1.8429,  -7.3662, -18.4161,   2.8742,\n",
              "          16.7400,  -5.0636,   5.6984],\n",
              "        [-22.8907, -12.5522,   3.4063,  -6.8296, -11.8839, -11.3531,   0.7043,\n",
              "          25.6694,  -1.5242,  22.9723],\n",
              "        [ -3.6158,   2.2871,  -3.4624,   5.2928,  -1.1255,  -5.9426,   9.9343,\n",
              "          28.6990,  -6.1504,  10.2788],\n",
              "        [ -7.1274,   4.0864,  -1.4132,   6.8638,  -8.7504, -13.1644,   7.2826,\n",
              "          21.0693, -17.8179,   7.3590],\n",
              "        [ -5.3099,  -5.7312,   6.0898,   0.7784,  -7.1172,  -9.0223,   2.1091,\n",
              "          17.1477,  -6.7597,  12.6594],\n",
              "        [ -1.4762,  -2.6925,   3.0567,   7.7722,  -0.9483, -11.0742,  14.0302,\n",
              "          24.3938,  -7.0624,   9.8094],\n",
              "        [-17.0545,  -0.8253,  13.9162,   2.5955, -11.7615, -18.1425,   2.1647,\n",
              "          18.1575,  -2.1517,   6.5946],\n",
              "        [-10.4356,  -4.9967,   4.6295,  -8.3601,  -0.9777, -10.1832,   0.6041,\n",
              "          20.1750,  -7.7842,  13.2060],\n",
              "        [ -1.7118, -12.1075,  10.1315,   0.1964,   1.1376, -13.1724,   7.8411,\n",
              "          19.1383,  -7.6514,   6.1014],\n",
              "        [-11.1036,  -0.2563,  -7.4890,  -5.8063,  -8.1226, -15.0118,  -1.8211,\n",
              "          15.7750,  -3.7438,  14.0466],\n",
              "        [-15.0889,  -8.7661,   7.2739,  -6.3231,  -8.0588,  -4.9446,  11.6647,\n",
              "          20.2140, -12.8152,  11.0531],\n",
              "        [  6.1513,  -8.0272,   8.7348,  -5.1449,   3.1522, -15.5376,  13.0276,\n",
              "          16.3811, -10.6988,  16.4507],\n",
              "        [-13.4545,   1.1039,  13.8856,   1.3022,  -8.6131,  -5.6310,   6.8868,\n",
              "          25.7043,  -6.6455,   9.7860],\n",
              "        [-13.7968,  -4.2174,   9.8777,   0.5133,  -7.5876,  -9.6731,   0.3128,\n",
              "          20.1038, -12.4505,  11.6649],\n",
              "        [  2.9321,  -4.8640,   6.6308,   2.1641,  -2.2884, -17.3247,  13.2691,\n",
              "          23.5615,  -7.4093,  13.9674],\n",
              "        [-25.6959,  -9.2525,  10.4767,   3.2948, -11.4758, -12.2219,   1.8090,\n",
              "          24.5391, -11.0173,   6.1787],\n",
              "        [ -2.5891,   7.0729,   6.8974,  -2.0767,  -5.9900, -18.6195,   6.3501,\n",
              "          20.5212,  -9.4228,  12.3339],\n",
              "        [-10.2034, -10.4378,   8.8606,   3.6549,  -2.7453, -19.6401,   6.3705,\n",
              "           4.4111,   1.1150,   5.6559],\n",
              "        [ -2.6361,  -0.1952,   3.4696,  -7.1444,  -0.8365, -18.8641,   8.1699,\n",
              "          13.3890,  -6.7172,  13.3449],\n",
              "        [-15.3924,  -9.6563,   7.1400,  -2.0109,  -6.7965, -10.9874,   2.7021,\n",
              "          18.3871, -17.8270,   9.4083],\n",
              "        [ -1.4974,  -4.4568,   4.3460,  11.7379,  -3.3745,  -9.7765,  11.2084,\n",
              "          17.7803,  -3.2988,  12.7426],\n",
              "        [ -4.1504,  -5.8372,  11.2166,  -7.4933,  -6.2935,  -7.7440,  10.7852,\n",
              "          21.5073,  -7.4108,  19.1802],\n",
              "        [-16.4759,   0.3389,   4.3960,   0.1743, -12.5695, -15.2413,   0.5113,\n",
              "          20.9488,  -7.5856,  12.9990],\n",
              "        [ -8.1708,  -5.0075,  -8.7259,   1.7261,  -7.2585, -14.3330,  -1.1985,\n",
              "          27.1372, -11.7629,  16.7296],\n",
              "        [ -5.6549,  -2.8541,   3.6295,   5.7193,  -5.2052, -18.2375,   2.7971,\n",
              "          17.2392,  -5.1080,   1.3509],\n",
              "        [ -4.0291,  -3.4319,   4.4248,   5.9278, -11.3822, -15.0147,  11.4669,\n",
              "          22.9908, -10.2572,  13.1403],\n",
              "        [  0.7565,  -6.2045,   6.9974,  -6.6839,  -3.4582,  -8.7044,   6.0392,\n",
              "          13.7382,  -8.2406,  11.0476],\n",
              "        [-16.9557, -15.2824,  14.0844,   7.1080,   1.5034,  -4.6392,  13.5201,\n",
              "          14.6203,  -5.8430,   9.0913],\n",
              "        [-14.7184, -10.9986,   8.6166,  -4.6278,   1.0238, -10.6491,  -3.3482,\n",
              "          25.4227, -14.9864,   7.5970],\n",
              "        [  4.6816,  -0.6950,   8.5437,  -0.2481,  -6.1135,  -3.9840,  -8.2769,\n",
              "          14.7501,  -4.1293,   5.2650],\n",
              "        [ -5.3090,  -5.9056,  -2.0673,  -3.9800, -14.5179,  -9.0026,  12.2993,\n",
              "          21.0097,  -9.3115,  18.1046],\n",
              "        [ -3.3951, -11.0652,   5.4527,   2.3232,  -9.2185, -20.7634,  12.0665,\n",
              "          19.8242,  -9.7157,   9.3152],\n",
              "        [ -8.6077,  -3.9934,   7.7684,   7.5534,  -6.5966, -12.7801,   2.9694,\n",
              "          17.0056, -10.7433,   3.0829],\n",
              "        [ -1.1085,  -5.7084,  13.0727,   2.1752,   2.1076, -16.0211,   5.5389,\n",
              "          11.9188,  -4.7728,   3.6154],\n",
              "        [ -5.6687,  -5.1929,   4.3477,   3.3417,  -6.8722, -18.0427,   7.0874,\n",
              "          16.0644,  -0.8827,   9.0292],\n",
              "        [ -6.1855,  -8.7932,  -0.5542,  -1.0917,  -3.9133, -13.0658,  11.5997,\n",
              "          28.8286, -10.8817,  16.3944],\n",
              "        [ -6.2434,   7.6973,   1.6833,  -4.2534,  -1.4688, -17.6336,   5.6643,\n",
              "          24.5086,  -3.2806,  13.0966],\n",
              "        [ -5.5542,  -1.6261,  14.1546,  -4.8286,  -4.7492, -15.1196,  13.2110,\n",
              "          15.1742,  -4.5667,  17.9328],\n",
              "        [-15.7236,   3.2189,   8.5490,  -4.6006,   0.0785, -16.1516,   8.7819,\n",
              "          17.9595,   4.0976,  15.4136],\n",
              "        [ -4.6657,  -1.8478,   6.8827,  10.4989,  -6.5629, -19.5937,   6.1126,\n",
              "          12.2818, -11.2996,   2.1914],\n",
              "        [-24.1199,  -0.3908,   9.8172,   7.8603,  -6.7057,  -7.9807,   3.9715,\n",
              "          19.4048,  -4.8174,   1.3603],\n",
              "        [ -5.3019,  -4.9820,   2.5821,  -3.9671,   2.1005, -13.0710,   6.3274,\n",
              "          23.2861,  -8.7225,  13.1954],\n",
              "        [  6.6221,  -2.0281,   3.1068,  -3.4540,  -9.9904, -14.3877,  12.3382,\n",
              "          16.0473,  -9.6661,  20.0399],\n",
              "        [-11.2260,  -4.1559,  10.4929,  -2.1117,  -5.9479,  -5.5205,  11.5268,\n",
              "          16.7017,  -8.5027,  12.8057],\n",
              "        [ -2.3385,  -1.8323,   2.8878,  15.6759, -10.8008, -17.7048,   6.5378,\n",
              "          13.3665, -10.3077,  13.2278],\n",
              "        [-17.3376, -14.1844,  -6.8547,  -8.7762,  -6.8022, -12.1781,   1.8160,\n",
              "          12.5779,  -0.9028,  18.1305],\n",
              "        [ -1.0986,   1.9977,   7.8666,   2.4616,  -9.7981,  -9.9365,   5.2377,\n",
              "          10.7860,  -3.5888,   6.4885],\n",
              "        [ -7.9378, -13.7572,   9.2853,   6.6496,  -8.8235, -12.1036,  14.7907,\n",
              "          19.9846,  -2.9120,  18.2987],\n",
              "        [ -6.5408, -11.8939,   6.0190,  -2.1510,  -4.1169, -13.6053,   4.2367,\n",
              "          17.7138,  -3.2943,  10.3999],\n",
              "        [-13.3880,  -7.1688,  10.9104,  -1.1205, -10.7962,  -1.6809,   5.2234,\n",
              "          20.6767,  -6.0039,  18.6694],\n",
              "        [-11.2338,  -7.4343,   5.7920,  -2.2097,  -9.3809, -13.2794,  -1.2927,\n",
              "          21.8269, -17.8221,   8.1445],\n",
              "        [ -8.2431,   2.8962,  -6.8796,  -2.4200,  -2.2718, -13.8494,  -1.7270,\n",
              "          23.7588, -13.7064,   7.3823],\n",
              "        [ -8.1962,  -4.4955,   7.2302,   0.6905,  -0.8175,  -7.1582,  -1.4810,\n",
              "          27.9774,  -1.7601,   7.7609],\n",
              "        [-12.5105,   4.9910,   3.7867,   0.8471,  -9.2283, -11.6018,  -4.7220,\n",
              "          21.6006,  -2.5170,   8.7680]])"
            ]
          },
          "metadata": {
            "tags": []
          },
          "execution_count": 16
        }
      ]
    },
    {
      "cell_type": "code",
      "metadata": {
        "colab": {
          "base_uri": "https://localhost:8080/"
        },
        "id": "eVsWHo0CE6MG",
        "outputId": "09bfd621-4e62-4034-c5fd-a70b26893dd5"
      },
      "source": [
        "##7- Solution\r\n",
        "def softmax(x):\r\n",
        "    return torch.exp(x)/torch.sum(torch.exp(x), dim=1).view(-1, 1)\r\n",
        "\r\n",
        "probabilities = softmax(out)\r\n",
        "\r\n",
        "# Does it have the right shape? Should be (64, 10)\r\n",
        "print(probabilities.shape)\r\n",
        "# Does it sum to 1?\r\n",
        "print(probabilities.sum(dim=1))"
      ],
      "execution_count": null,
      "outputs": [
        {
          "output_type": "stream",
          "text": [
            "torch.Size([64, 10])\n",
            "tensor([1.0000, 1.0000, 1.0000, 1.0000, 1.0000, 1.0000, 1.0000, 1.0000, 1.0000,\n",
            "        1.0000, 1.0000, 1.0000, 1.0000, 1.0000, 1.0000, 1.0000, 1.0000, 1.0000,\n",
            "        1.0000, 1.0000, 1.0000, 1.0000, 1.0000, 1.0000, 1.0000, 1.0000, 1.0000,\n",
            "        1.0000, 1.0000, 1.0000, 1.0000, 1.0000, 1.0000, 1.0000, 1.0000, 1.0000,\n",
            "        1.0000, 1.0000, 1.0000, 1.0000, 1.0000, 1.0000, 1.0000, 1.0000, 1.0000,\n",
            "        1.0000, 1.0000, 1.0000, 1.0000, 1.0000, 1.0000, 1.0000, 1.0000, 1.0000,\n",
            "        1.0000, 1.0000, 1.0000, 1.0000, 1.0000, 1.0000, 1.0000, 1.0000, 1.0000,\n",
            "        1.0000])\n"
          ],
          "name": "stdout"
        }
      ]
    },
    {
      "cell_type": "code",
      "metadata": {
        "id": "hcTCMMSZFOMI"
      },
      "source": [
        "#8-\r\n",
        "from torch import nn"
      ],
      "execution_count": null,
      "outputs": []
    },
    {
      "cell_type": "code",
      "metadata": {
        "id": "2P9ih93qFUko"
      },
      "source": [
        "#9-\r\n",
        "class Network(nn.Module):\r\n",
        "    def __init__(self):\r\n",
        "        super().__init__()\r\n",
        "        \r\n",
        "        # Inputs to hidden layer linear transformation\r\n",
        "        self.hidden = nn.Linear(784, 256)\r\n",
        "        # Output layer, 10 units - one for each digit\r\n",
        "        self.output = nn.Linear(256, 10)\r\n",
        "        \r\n",
        "        # Define sigmoid activation and softmax output \r\n",
        "        self.sigmoid = nn.Sigmoid()\r\n",
        "        self.softmax = nn.Softmax(dim=1)\r\n",
        "        \r\n",
        "    def forward(self, x):\r\n",
        "        # Pass the input tensor through each of our operations\r\n",
        "        x = self.hidden(x)\r\n",
        "        x = self.sigmoid(x)\r\n",
        "        x = self.output(x)\r\n",
        "        x = self.softmax(x)\r\n",
        "        \r\n",
        "        return x"
      ],
      "execution_count": null,
      "outputs": []
    },
    {
      "cell_type": "code",
      "metadata": {
        "colab": {
          "base_uri": "https://localhost:8080/"
        },
        "id": "7Y5w1AQfFYkU",
        "outputId": "82a66ccd-ef44-4a2f-8756-aa2f0a14beac"
      },
      "source": [
        "#10- Create the network and look at it's text representation\r\n",
        "model = Network()\r\n",
        "model"
      ],
      "execution_count": null,
      "outputs": [
        {
          "output_type": "execute_result",
          "data": {
            "text/plain": [
              "Network(\n",
              "  (hidden): Linear(in_features=784, out_features=256, bias=True)\n",
              "  (output): Linear(in_features=256, out_features=10, bias=True)\n",
              "  (sigmoid): Sigmoid()\n",
              "  (softmax): Softmax(dim=1)\n",
              ")"
            ]
          },
          "metadata": {
            "tags": []
          },
          "execution_count": 13
        }
      ]
    },
    {
      "cell_type": "code",
      "metadata": {
        "id": "7aZZg_1CFkCV"
      },
      "source": [
        "#11-\r\n",
        "import torch.nn.functional as F\r\n",
        "\r\n",
        "class Network(nn.Module):\r\n",
        "    def __init__(self):\r\n",
        "        super().__init__()\r\n",
        "        # Inputs to hidden layer linear transformation\r\n",
        "        self.hidden = nn.Linear(784, 256)\r\n",
        "        # Output layer, 10 units - one for each digit\r\n",
        "        self.output = nn.Linear(256, 10)\r\n",
        "        \r\n",
        "    def forward(self, x):\r\n",
        "        # Hidden layer with sigmoid activation\r\n",
        "        x = F.sigmoid(self.hidden(x))\r\n",
        "        # Output layer with softmax activation\r\n",
        "        x = F.softmax(self.output(x), dim=1)\r\n",
        "        \r\n",
        "        return x"
      ],
      "execution_count": null,
      "outputs": []
    },
    {
      "cell_type": "code",
      "metadata": {
        "colab": {
          "base_uri": "https://localhost:8080/"
        },
        "id": "QtL-GNO6F3LC",
        "outputId": "134d415c-be99-4e8c-f9a2-e03d874d20a6"
      },
      "source": [
        "##12- Solution\r\n",
        "\r\n",
        "class Network(nn.Module):\r\n",
        "    def __init__(self):\r\n",
        "        super().__init__()\r\n",
        "        # Defining the layers, 128, 64, 10 units each\r\n",
        "        self.fc1 = nn.Linear(784, 128)\r\n",
        "        self.fc2 = nn.Linear(128, 64)\r\n",
        "        # Output layer, 10 units - one for each digit\r\n",
        "        self.fc3 = nn.Linear(64, 10)\r\n",
        "        \r\n",
        "    def forward(self, x):\r\n",
        "        ''' Forward pass through the network, returns the output logits '''\r\n",
        "        \r\n",
        "        x = self.fc1(x)\r\n",
        "        x = F.relu(x)\r\n",
        "        x = self.fc2(x)\r\n",
        "        x = F.relu(x)\r\n",
        "        x = self.fc3(x)\r\n",
        "        x = F.softmax(x, dim=1)\r\n",
        "        \r\n",
        "        return x\r\n",
        "\r\n",
        "model = Network()\r\n",
        "model"
      ],
      "execution_count": null,
      "outputs": [
        {
          "output_type": "execute_result",
          "data": {
            "text/plain": [
              "Network(\n",
              "  (fc1): Linear(in_features=784, out_features=128, bias=True)\n",
              "  (fc2): Linear(in_features=128, out_features=64, bias=True)\n",
              "  (fc3): Linear(in_features=64, out_features=10, bias=True)\n",
              ")"
            ]
          },
          "metadata": {
            "tags": []
          },
          "execution_count": 15
        }
      ]
    },
    {
      "cell_type": "code",
      "metadata": {
        "colab": {
          "base_uri": "https://localhost:8080/"
        },
        "id": "6DepIs41GAIu",
        "outputId": "c6d2f1a1-2003-443e-e969-e5ebc033b4aa"
      },
      "source": [
        "#13-\r\n",
        "print(model.fc1.weight)\r\n",
        "print(model.fc1.bias)"
      ],
      "execution_count": null,
      "outputs": [
        {
          "output_type": "stream",
          "text": [
            "Parameter containing:\n",
            "tensor([[ 0.0200, -0.0156,  0.0299,  ..., -0.0052,  0.0247,  0.0286],\n",
            "        [-0.0265,  0.0112,  0.0098,  ..., -0.0166,  0.0183,  0.0200],\n",
            "        [-0.0271,  0.0267,  0.0220,  ..., -0.0050, -0.0304, -0.0040],\n",
            "        ...,\n",
            "        [-0.0258,  0.0216,  0.0071,  ...,  0.0004,  0.0284, -0.0135],\n",
            "        [-0.0188,  0.0135, -0.0277,  ...,  0.0050,  0.0251, -0.0310],\n",
            "        [ 0.0002, -0.0209, -0.0235,  ...,  0.0285,  0.0255, -0.0067]],\n",
            "       requires_grad=True)\n",
            "Parameter containing:\n",
            "tensor([-5.6904e-03,  2.4745e-02, -5.3590e-03,  4.8807e-03, -2.6803e-02,\n",
            "         2.6373e-02, -1.9408e-02, -1.1972e-02,  1.1374e-02,  6.1753e-03,\n",
            "         2.0263e-02, -2.3219e-02,  2.4835e-04,  2.5261e-02,  1.8106e-02,\n",
            "        -3.1562e-02,  2.7008e-02, -1.1418e-02,  2.3526e-02,  3.2736e-02,\n",
            "         2.0467e-02,  1.2627e-03, -2.7554e-02, -3.2887e-02, -8.9781e-03,\n",
            "        -1.1398e-02, -3.5431e-02, -1.6823e-02, -3.1045e-02,  8.9191e-03,\n",
            "        -1.4235e-02, -1.8227e-02,  9.5317e-03, -3.6405e-03, -1.5812e-02,\n",
            "         1.2447e-02,  2.8473e-02,  1.3157e-02,  5.4564e-03, -5.9754e-05,\n",
            "        -2.3152e-02,  3.8602e-03, -3.5424e-03,  1.2027e-02, -2.4825e-02,\n",
            "        -1.2481e-02, -1.8843e-02,  2.2219e-02,  2.5554e-02, -1.4046e-02,\n",
            "        -7.1816e-03,  8.8104e-03,  2.5794e-02,  3.3580e-02,  2.1925e-02,\n",
            "        -1.2316e-02,  6.7329e-04,  1.5079e-02, -1.8035e-03,  1.5657e-02,\n",
            "        -8.0424e-03, -7.9745e-03, -3.0774e-02,  2.3817e-04,  1.5330e-02,\n",
            "         3.4382e-02, -3.8678e-03,  3.3208e-02, -7.4924e-03, -3.2866e-02,\n",
            "         4.8334e-03,  2.2708e-03, -3.7970e-03,  2.5937e-02,  2.9860e-02,\n",
            "        -2.4286e-02, -1.1774e-02,  6.6258e-03, -1.9316e-02, -2.3343e-02,\n",
            "         1.5553e-02, -2.9140e-02,  2.3815e-02, -3.0090e-02, -7.2545e-03,\n",
            "        -1.7006e-02, -3.1968e-02,  6.2121e-03,  1.8149e-02, -1.2695e-02,\n",
            "         1.8399e-02,  3.0629e-02,  3.0366e-02,  1.7949e-02,  1.8474e-02,\n",
            "         6.1321e-03,  2.8323e-02, -1.9966e-02,  2.1713e-02,  2.8046e-02,\n",
            "         4.1472e-03,  1.0870e-02, -3.5275e-02, -3.4251e-02, -1.5935e-02,\n",
            "        -3.0501e-02,  3.3617e-02, -3.3682e-02,  1.9316e-02, -1.3360e-03,\n",
            "         2.1506e-02,  1.8917e-02,  1.8387e-02,  2.7204e-02, -3.1937e-02,\n",
            "        -5.8437e-03,  3.4335e-02,  8.0635e-03, -3.2205e-02,  1.3107e-02,\n",
            "        -2.1768e-02,  2.8404e-02, -6.5234e-03, -2.2320e-02, -2.4917e-02,\n",
            "         1.7286e-02, -2.0317e-02,  3.1833e-02], requires_grad=True)\n"
          ],
          "name": "stdout"
        }
      ]
    },
    {
      "cell_type": "code",
      "metadata": {
        "colab": {
          "base_uri": "https://localhost:8080/"
        },
        "id": "uqeapHRHGHld",
        "outputId": "158bae46-0614-4adc-ba32-8674641d6ecc"
      },
      "source": [
        "#14- Set biases to all zeros\r\n",
        "model.fc1.bias.data.fill_(0)"
      ],
      "execution_count": null,
      "outputs": [
        {
          "output_type": "execute_result",
          "data": {
            "text/plain": [
              "tensor([0., 0., 0., 0., 0., 0., 0., 0., 0., 0., 0., 0., 0., 0., 0., 0., 0., 0., 0., 0., 0., 0., 0., 0.,\n",
              "        0., 0., 0., 0., 0., 0., 0., 0., 0., 0., 0., 0., 0., 0., 0., 0., 0., 0., 0., 0., 0., 0., 0., 0.,\n",
              "        0., 0., 0., 0., 0., 0., 0., 0., 0., 0., 0., 0., 0., 0., 0., 0., 0., 0., 0., 0., 0., 0., 0., 0.,\n",
              "        0., 0., 0., 0., 0., 0., 0., 0., 0., 0., 0., 0., 0., 0., 0., 0., 0., 0., 0., 0., 0., 0., 0., 0.,\n",
              "        0., 0., 0., 0., 0., 0., 0., 0., 0., 0., 0., 0., 0., 0., 0., 0., 0., 0., 0., 0., 0., 0., 0., 0.,\n",
              "        0., 0., 0., 0., 0., 0., 0., 0.])"
            ]
          },
          "metadata": {
            "tags": []
          },
          "execution_count": 17
        }
      ]
    },
    {
      "cell_type": "code",
      "metadata": {
        "colab": {
          "base_uri": "https://localhost:8080/"
        },
        "id": "sY1AeXVoIWou",
        "outputId": "d199f7fc-c8bc-4ab0-d1bd-071061e9d805"
      },
      "source": [
        "#15- sample from random normal with standard dev = 0.01\r\n",
        "model.fc1.weight.data.normal_(std=0.01)"
      ],
      "execution_count": null,
      "outputs": [
        {
          "output_type": "execute_result",
          "data": {
            "text/plain": [
              "tensor([[-0.0117, -0.0270,  0.0120,  ...,  0.0099, -0.0184, -0.0069],\n",
              "        [ 0.0126, -0.0073,  0.0041,  ...,  0.0058, -0.0010, -0.0157],\n",
              "        [-0.0017, -0.0051,  0.0043,  ..., -0.0053,  0.0069,  0.0126],\n",
              "        ...,\n",
              "        [ 0.0004, -0.0019, -0.0073,  ...,  0.0106, -0.0183,  0.0054],\n",
              "        [-0.0130, -0.0015,  0.0025,  ...,  0.0019, -0.0042, -0.0061],\n",
              "        [ 0.0101, -0.0071,  0.0030,  ...,  0.0039, -0.0071, -0.0027]])"
            ]
          },
          "metadata": {
            "tags": []
          },
          "execution_count": 18
        }
      ]
    },
    {
      "cell_type": "code",
      "metadata": {
        "colab": {
          "base_uri": "https://localhost:8080/"
        },
        "id": "UKIGufA3I44w",
        "outputId": "8822e813-be80-4b00-de6f-f2010f70b148"
      },
      "source": [
        "#16- download the custom helper.py file to be able to desplay and view the image in the script below\r\n",
        "!wget https://raw.githubusercontent.com/udacity/deep-learning-v2-pytorch/3bd7dea850e936d8cb44adda8200e4e2b5d627e3/intro-to-pytorch/helper.py"
      ],
      "execution_count": null,
      "outputs": [
        {
          "output_type": "stream",
          "text": [
            "--2021-03-06 18:52:55--  https://raw.githubusercontent.com/udacity/deep-learning-v2-pytorch/3bd7dea850e936d8cb44adda8200e4e2b5d627e3/intro-to-pytorch/helper.py\n",
            "Resolving raw.githubusercontent.com (raw.githubusercontent.com)... 185.199.108.133, 185.199.109.133, 185.199.110.133, ...\n",
            "Connecting to raw.githubusercontent.com (raw.githubusercontent.com)|185.199.108.133|:443... connected.\n",
            "HTTP request sent, awaiting response... 200 OK\n",
            "Length: 2813 (2.7K) [text/plain]\n",
            "Saving to: ‘helper.py’\n",
            "\n",
            "helper.py           100%[===================>]   2.75K  --.-KB/s    in 0s      \n",
            "\n",
            "2021-03-06 18:52:56 (62.0 MB/s) - ‘helper.py’ saved [2813/2813]\n",
            "\n"
          ],
          "name": "stdout"
        }
      ]
    },
    {
      "cell_type": "code",
      "metadata": {
        "colab": {
          "base_uri": "https://localhost:8080/",
          "height": 252
        },
        "id": "JP0kwIikIpG9",
        "outputId": "e18361ea-70b7-48b4-cd15-328f4d4b2a12"
      },
      "source": [
        "#17-\r\n",
        "import helper\r\n",
        "\r\n",
        "# Grab some data \r\n",
        "dataiter = iter(trainloader)\r\n",
        "images, labels = dataiter.next()\r\n",
        "\r\n",
        "# Resize images into a 1D vector, new shape is (batch size, color channels, image pixels) \r\n",
        "images.resize_(64, 1, 784)\r\n",
        "# or images.resize_(images.shape[0], 1, 784) to automatically get batch size\r\n",
        "\r\n",
        "# Forward pass through the network\r\n",
        "img_idx = 0\r\n",
        "ps = model.forward(images[img_idx,:])\r\n",
        "\r\n",
        "img = images[img_idx] \r\n",
        "\r\n",
        "helper.view_classify(img.view(1, 28, 28), ps)"
      ],
      "execution_count": null,
      "outputs": [
        {
          "output_type": "display_data",
          "data": {
            "image/png": "[encoded data removed]",
            "text/plain": [
              "<Figure size 432x648 with 2 Axes>"
            ]
          },
          "metadata": {
            "tags": [],
            "image/png": {
              "width": 424,
              "height": 235
            },
            "needs_background": "light"
          }
        }
      ]
    },
    {
      "cell_type": "code",
      "metadata": {
        "colab": {
          "base_uri": "https://localhost:8080/",
          "height": 388
        },
        "id": "R2-cPHdyWcTS",
        "outputId": "3d8c6824-8c3c-4b08-f48e-392c5943b5f6"
      },
      "source": [
        "#18- Hyperparameters for our network\r\n",
        "input_size = 784\r\n",
        "hidden_sizes = [128, 64]\r\n",
        "output_size = 10\r\n",
        "\r\n",
        "# Build a feed-forward network\r\n",
        "model = nn.Sequential(nn.Linear(input_size, hidden_sizes[0]),\r\n",
        "                      nn.ReLU(),\r\n",
        "                      nn.Linear(hidden_sizes[0], hidden_sizes[1]),\r\n",
        "                      nn.ReLU(),\r\n",
        "                      nn.Linear(hidden_sizes[1], output_size),\r\n",
        "                      nn.Softmax(dim=1))\r\n",
        "print(model)\r\n",
        "\r\n",
        "# Forward pass through the network and display output\r\n",
        "images, labels = next(iter(trainloader))\r\n",
        "images.resize_(images.shape[0], 1, 784)\r\n",
        "ps = model.forward(images[0,:])\r\n",
        "helper.view_classify(images[0].view(1, 28, 28), ps)"
      ],
      "execution_count": null,
      "outputs": [
        {
          "output_type": "stream",
          "text": [
            "Sequential(\n",
            "  (0): Linear(in_features=784, out_features=128, bias=True)\n",
            "  (1): ReLU()\n",
            "  (2): Linear(in_features=128, out_features=64, bias=True)\n",
            "  (3): ReLU()\n",
            "  (4): Linear(in_features=64, out_features=10, bias=True)\n",
            "  (5): Softmax(dim=1)\n",
            ")\n"
          ],
          "name": "stdout"
        },
        {
          "output_type": "display_data",
          "data": {
            "image/png": "[encoded data removed]",
            "text/plain": [
              "<Figure size 432x648 with 2 Axes>"
            ]
          },
          "metadata": {
            "tags": [],
            "image/png": {
              "width": 424,
              "height": 235
            },
            "needs_background": "light"
          }
        }
      ]
    },
    {
      "cell_type": "code",
      "metadata": {
        "colab": {
          "base_uri": "https://localhost:8080/"
        },
        "id": "Ax2jM_MJWdOD",
        "outputId": "8c4611c6-fc68-48e0-887e-8311677ae878"
      },
      "source": [
        "#19-\r\n",
        "print(model[0])\r\n",
        "model[0].weight"
      ],
      "execution_count": null,
      "outputs": [
        {
          "output_type": "stream",
          "text": [
            "Linear(in_features=784, out_features=128, bias=True)\n"
          ],
          "name": "stdout"
        },
        {
          "output_type": "execute_result",
          "data": {
            "text/plain": [
              "Parameter containing:\n",
              "tensor([[ 0.0174, -0.0355,  0.0321,  ..., -0.0259, -0.0152,  0.0193],\n",
              "        [-0.0055,  0.0157,  0.0209,  ..., -0.0108,  0.0255, -0.0019],\n",
              "        [ 0.0221, -0.0334,  0.0260,  ..., -0.0059, -0.0308,  0.0207],\n",
              "        ...,\n",
              "        [-0.0056,  0.0280, -0.0086,  ...,  0.0175,  0.0088, -0.0290],\n",
              "        [ 0.0150,  0.0093,  0.0036,  ...,  0.0118,  0.0102, -0.0115],\n",
              "        [ 0.0079, -0.0304, -0.0293,  ...,  0.0123,  0.0321,  0.0328]],\n",
              "       requires_grad=True)"
            ]
          },
          "metadata": {
            "tags": []
          },
          "execution_count": 23
        }
      ]
    },
    {
      "cell_type": "code",
      "metadata": {
        "colab": {
          "base_uri": "https://localhost:8080/"
        },
        "id": "tCIIDgKrWta0",
        "outputId": "2c973265-ae3f-45fb-eb32-5bae83b960a4"
      },
      "source": [
        "#20-\r\n",
        "from collections import OrderedDict\r\n",
        "model = nn.Sequential(OrderedDict([\r\n",
        "                      ('fc1', nn.Linear(input_size, hidden_sizes[0])),\r\n",
        "                      ('relu1', nn.ReLU()),\r\n",
        "                      ('fc2', nn.Linear(hidden_sizes[0], hidden_sizes[1])),\r\n",
        "                      ('relu2', nn.ReLU()),\r\n",
        "                      ('output', nn.Linear(hidden_sizes[1], output_size)),\r\n",
        "                      ('softmax', nn.Softmax(dim=1))]))\r\n",
        "model"
      ],
      "execution_count": null,
      "outputs": [
        {
          "output_type": "execute_result",
          "data": {
            "text/plain": [
              "Sequential(\n",
              "  (fc1): Linear(in_features=784, out_features=128, bias=True)\n",
              "  (relu1): ReLU()\n",
              "  (fc2): Linear(in_features=128, out_features=64, bias=True)\n",
              "  (relu2): ReLU()\n",
              "  (output): Linear(in_features=64, out_features=10, bias=True)\n",
              "  (softmax): Softmax(dim=1)\n",
              ")"
            ]
          },
          "metadata": {
            "tags": []
          },
          "execution_count": 24
        }
      ]
    },
    {
      "cell_type": "code",
      "metadata": {
        "colab": {
          "base_uri": "https://localhost:8080/"
        },
        "id": "G9bwFNkDH04y",
        "outputId": "1caea7e0-e5f8-4a65-f85e-501c64a44f7a"
      },
      "source": [
        "#21-\r\n",
        "print(model[0])\r\n",
        "print(model.fc1)"
      ],
      "execution_count": null,
      "outputs": [
        {
          "output_type": "stream",
          "text": [
            "Linear(in_features=784, out_features=128, bias=True)\n",
            "Linear(in_features=784, out_features=128, bias=True)\n"
          ],
          "name": "stdout"
        }
      ]
    }
  ]
}